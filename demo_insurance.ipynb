{
  "cells": [
    {
      "cell_type": "markdown",
      "metadata": {
        "id": "view-in-github",
        "colab_type": "text"
      },
      "source": [
        "<a href=\"https://colab.research.google.com/github/waghmareps12/UDEMY-LANGCHAIN-LLM/blob/main/demo_insurance.ipynb\" target=\"_parent\"><img src=\"https://colab.research.google.com/assets/colab-badge.svg\" alt=\"Open In Colab\"/></a>"
      ]
    },
    {
      "cell_type": "markdown",
      "metadata": {
        "id": "kncaHUJ0MhD3"
      },
      "source": [
        "# LlamaParse - Fast checking Insurance Contract for Coverage\n",
        "\n",
        "<a href=\"https://colab.research.google.com/github/run-llama/llama_parse/blob/main/examples/demo_insurance.ipynb\" target=\"_parent\"><img src=\"https://colab.research.google.com/assets/colab-badge.svg\" alt=\"Open In Colab\"/></a>\n",
        "\n",
        "In this notebook we will look at how LlamaParse can be used to extract structured coverage information from an insurance policy."
      ]
    },
    {
      "cell_type": "markdown",
      "metadata": {
        "id": "o2KG6YGmMhD4"
      },
      "source": [
        "## Installation of required packages"
      ]
    },
    {
      "cell_type": "code",
      "execution_count": null,
      "metadata": {
        "colab": {
          "base_uri": "https://localhost:8080/"
        },
        "id": "AG_uectJMhD5",
        "outputId": "a4bf6015-128d-4d3b-f0d4-706cc36a1360"
      },
      "outputs": [
        {
          "output_type": "stream",
          "name": "stdout",
          "text": [
            "Collecting llama-index\n",
            "  Downloading llama_index-0.10.25-py3-none-any.whl (6.9 kB)\n",
            "Collecting llama-parse\n",
            "  Downloading llama_parse-0.4.0-py3-none-any.whl (7.0 kB)\n",
            "Collecting llama-index-agent-openai<0.3.0,>=0.1.4 (from llama-index)\n",
            "  Downloading llama_index_agent_openai-0.2.1-py3-none-any.whl (12 kB)\n",
            "Collecting llama-index-cli<0.2.0,>=0.1.2 (from llama-index)\n",
            "  Downloading llama_index_cli-0.1.11-py3-none-any.whl (26 kB)\n",
            "Collecting llama-index-core<0.11.0,>=0.10.25 (from llama-index)\n",
            "  Downloading llama_index_core-0.10.25.post3-py3-none-any.whl (15.4 MB)\n",
            "\u001b[2K     \u001b[90m━━━━━━━━━━━━━━━━━━━━━━━━━━━━━━━━━━━━━━━━\u001b[0m \u001b[32m15.4/15.4 MB\u001b[0m \u001b[31m31.2 MB/s\u001b[0m eta \u001b[36m0:00:00\u001b[0m\n",
            "\u001b[?25hCollecting llama-index-embeddings-openai<0.2.0,>=0.1.5 (from llama-index)\n",
            "  Downloading llama_index_embeddings_openai-0.1.7-py3-none-any.whl (6.0 kB)\n",
            "Collecting llama-index-indices-managed-llama-cloud<0.2.0,>=0.1.2 (from llama-index)\n",
            "  Downloading llama_index_indices_managed_llama_cloud-0.1.5-py3-none-any.whl (6.7 kB)\n",
            "Collecting llama-index-legacy<0.10.0,>=0.9.48 (from llama-index)\n",
            "  Downloading llama_index_legacy-0.9.48-py3-none-any.whl (2.0 MB)\n",
            "\u001b[2K     \u001b[90m━━━━━━━━━━━━━━━━━━━━━━━━━━━━━━━━━━━━━━━━\u001b[0m \u001b[32m2.0/2.0 MB\u001b[0m \u001b[31m40.5 MB/s\u001b[0m eta \u001b[36m0:00:00\u001b[0m\n",
            "\u001b[?25hCollecting llama-index-llms-openai<0.2.0,>=0.1.13 (from llama-index)\n",
            "  Downloading llama_index_llms_openai-0.1.13-py3-none-any.whl (10 kB)\n",
            "Collecting llama-index-multi-modal-llms-openai<0.2.0,>=0.1.3 (from llama-index)\n",
            "  Downloading llama_index_multi_modal_llms_openai-0.1.4-py3-none-any.whl (5.8 kB)\n",
            "Collecting llama-index-program-openai<0.2.0,>=0.1.3 (from llama-index)\n",
            "  Downloading llama_index_program_openai-0.1.5-py3-none-any.whl (4.1 kB)\n",
            "Collecting llama-index-question-gen-openai<0.2.0,>=0.1.2 (from llama-index)\n",
            "  Downloading llama_index_question_gen_openai-0.1.3-py3-none-any.whl (2.9 kB)\n",
            "Collecting llama-index-readers-file<0.2.0,>=0.1.4 (from llama-index)\n",
            "  Downloading llama_index_readers_file-0.1.12-py3-none-any.whl (36 kB)\n",
            "Collecting llama-index-readers-llama-parse<0.2.0,>=0.1.2 (from llama-index)\n",
            "  Downloading llama_index_readers_llama_parse-0.1.4-py3-none-any.whl (2.5 kB)\n",
            "Requirement already satisfied: PyYAML>=6.0.1 in /usr/local/lib/python3.10/dist-packages (from llama-index-core<0.11.0,>=0.10.25->llama-index) (6.0.1)\n",
            "Requirement already satisfied: SQLAlchemy[asyncio]>=1.4.49 in /usr/local/lib/python3.10/dist-packages (from llama-index-core<0.11.0,>=0.10.25->llama-index) (2.0.29)\n",
            "Requirement already satisfied: aiohttp<4.0.0,>=3.8.6 in /usr/local/lib/python3.10/dist-packages (from llama-index-core<0.11.0,>=0.10.25->llama-index) (3.9.3)\n",
            "Collecting dataclasses-json (from llama-index-core<0.11.0,>=0.10.25->llama-index)\n",
            "  Downloading dataclasses_json-0.6.4-py3-none-any.whl (28 kB)\n",
            "Collecting deprecated>=1.2.9.3 (from llama-index-core<0.11.0,>=0.10.25->llama-index)\n",
            "  Downloading Deprecated-1.2.14-py2.py3-none-any.whl (9.6 kB)\n",
            "Collecting dirtyjson<2.0.0,>=1.0.8 (from llama-index-core<0.11.0,>=0.10.25->llama-index)\n",
            "  Downloading dirtyjson-1.0.8-py3-none-any.whl (25 kB)\n",
            "Requirement already satisfied: fsspec>=2023.5.0 in /usr/local/lib/python3.10/dist-packages (from llama-index-core<0.11.0,>=0.10.25->llama-index) (2023.6.0)\n",
            "Collecting httpx (from llama-index-core<0.11.0,>=0.10.25->llama-index)\n",
            "  Downloading httpx-0.27.0-py3-none-any.whl (75 kB)\n",
            "\u001b[2K     \u001b[90m━━━━━━━━━━━━━━━━━━━━━━━━━━━━━━━━━━━━━━━━\u001b[0m \u001b[32m75.6/75.6 kB\u001b[0m \u001b[31m3.2 MB/s\u001b[0m eta \u001b[36m0:00:00\u001b[0m\n",
            "\u001b[?25hCollecting llamaindex-py-client<0.2.0,>=0.1.15 (from llama-index-core<0.11.0,>=0.10.25->llama-index)\n",
            "  Downloading llamaindex_py_client-0.1.15-py3-none-any.whl (119 kB)\n",
            "\u001b[2K     \u001b[90m━━━━━━━━━━━━━━━━━━━━━━━━━━━━━━━━━━━━━━━━\u001b[0m \u001b[32m119.4/119.4 kB\u001b[0m \u001b[31m6.9 MB/s\u001b[0m eta \u001b[36m0:00:00\u001b[0m\n",
            "\u001b[?25hRequirement already satisfied: nest-asyncio<2.0.0,>=1.5.8 in /usr/local/lib/python3.10/dist-packages (from llama-index-core<0.11.0,>=0.10.25->llama-index) (1.6.0)\n",
            "Requirement already satisfied: networkx>=3.0 in /usr/local/lib/python3.10/dist-packages (from llama-index-core<0.11.0,>=0.10.25->llama-index) (3.2.1)\n",
            "Requirement already satisfied: nltk<4.0.0,>=3.8.1 in /usr/local/lib/python3.10/dist-packages (from llama-index-core<0.11.0,>=0.10.25->llama-index) (3.8.1)\n",
            "Requirement already satisfied: numpy in /usr/local/lib/python3.10/dist-packages (from llama-index-core<0.11.0,>=0.10.25->llama-index) (1.25.2)\n",
            "Collecting openai>=1.1.0 (from llama-index-core<0.11.0,>=0.10.25->llama-index)\n",
            "  Downloading openai-1.14.3-py3-none-any.whl (262 kB)\n",
            "\u001b[2K     \u001b[90m━━━━━━━━━━━━━━━━━━━━━━━━━━━━━━━━━━━━━━━━\u001b[0m \u001b[32m262.9/262.9 kB\u001b[0m \u001b[31m11.4 MB/s\u001b[0m eta \u001b[36m0:00:00\u001b[0m\n",
            "\u001b[?25hRequirement already satisfied: pandas in /usr/local/lib/python3.10/dist-packages (from llama-index-core<0.11.0,>=0.10.25->llama-index) (1.5.3)\n",
            "Requirement already satisfied: pillow>=9.0.0 in /usr/local/lib/python3.10/dist-packages (from llama-index-core<0.11.0,>=0.10.25->llama-index) (9.4.0)\n",
            "Requirement already satisfied: requests>=2.31.0 in /usr/local/lib/python3.10/dist-packages (from llama-index-core<0.11.0,>=0.10.25->llama-index) (2.31.0)\n",
            "Requirement already satisfied: tenacity<9.0.0,>=8.2.0 in /usr/local/lib/python3.10/dist-packages (from llama-index-core<0.11.0,>=0.10.25->llama-index) (8.2.3)\n",
            "Collecting tiktoken>=0.3.3 (from llama-index-core<0.11.0,>=0.10.25->llama-index)\n",
            "  Downloading tiktoken-0.6.0-cp310-cp310-manylinux_2_17_x86_64.manylinux2014_x86_64.whl (1.8 MB)\n",
            "\u001b[2K     \u001b[90m━━━━━━━━━━━━━━━━━━━━━━━━━━━━━━━━━━━━━━━━\u001b[0m \u001b[32m1.8/1.8 MB\u001b[0m \u001b[31m41.7 MB/s\u001b[0m eta \u001b[36m0:00:00\u001b[0m\n",
            "\u001b[?25hRequirement already satisfied: tqdm<5.0.0,>=4.66.1 in /usr/local/lib/python3.10/dist-packages (from llama-index-core<0.11.0,>=0.10.25->llama-index) (4.66.2)\n",
            "Requirement already satisfied: typing-extensions>=4.5.0 in /usr/local/lib/python3.10/dist-packages (from llama-index-core<0.11.0,>=0.10.25->llama-index) (4.10.0)\n",
            "Collecting typing-inspect>=0.8.0 (from llama-index-core<0.11.0,>=0.10.25->llama-index)\n",
            "  Downloading typing_inspect-0.9.0-py3-none-any.whl (8.8 kB)\n",
            "Requirement already satisfied: wrapt in /usr/local/lib/python3.10/dist-packages (from llama-index-core<0.11.0,>=0.10.25->llama-index) (1.14.1)\n",
            "Requirement already satisfied: beautifulsoup4<5.0.0,>=4.12.3 in /usr/local/lib/python3.10/dist-packages (from llama-index-readers-file<0.2.0,>=0.1.4->llama-index) (4.12.3)\n",
            "Collecting bs4<0.0.3,>=0.0.2 (from llama-index-readers-file<0.2.0,>=0.1.4->llama-index)\n",
            "  Downloading bs4-0.0.2-py2.py3-none-any.whl (1.2 kB)\n",
            "Collecting pymupdf<2.0.0,>=1.23.21 (from llama-index-readers-file<0.2.0,>=0.1.4->llama-index)\n",
            "  Downloading PyMuPDF-1.24.0-cp310-none-manylinux2014_x86_64.whl (3.9 MB)\n",
            "\u001b[2K     \u001b[90m━━━━━━━━━━━━━━━━━━━━━━━━━━━━━━━━━━━━━━━━\u001b[0m \u001b[32m3.9/3.9 MB\u001b[0m \u001b[31m45.3 MB/s\u001b[0m eta \u001b[36m0:00:00\u001b[0m\n",
            "\u001b[?25hCollecting pypdf<5.0.0,>=4.0.1 (from llama-index-readers-file<0.2.0,>=0.1.4->llama-index)\n",
            "  Downloading pypdf-4.1.0-py3-none-any.whl (286 kB)\n",
            "\u001b[2K     \u001b[90m━━━━━━━━━━━━━━━━━━━━━━━━━━━━━━━━━━━━━━━━\u001b[0m \u001b[32m286.1/286.1 kB\u001b[0m \u001b[31m15.3 MB/s\u001b[0m eta \u001b[36m0:00:00\u001b[0m\n",
            "\u001b[?25hCollecting striprtf<0.0.27,>=0.0.26 (from llama-index-readers-file<0.2.0,>=0.1.4->llama-index)\n",
            "  Downloading striprtf-0.0.26-py3-none-any.whl (6.9 kB)\n",
            "Requirement already satisfied: aiosignal>=1.1.2 in /usr/local/lib/python3.10/dist-packages (from aiohttp<4.0.0,>=3.8.6->llama-index-core<0.11.0,>=0.10.25->llama-index) (1.3.1)\n",
            "Requirement already satisfied: attrs>=17.3.0 in /usr/local/lib/python3.10/dist-packages (from aiohttp<4.0.0,>=3.8.6->llama-index-core<0.11.0,>=0.10.25->llama-index) (23.2.0)\n",
            "Requirement already satisfied: frozenlist>=1.1.1 in /usr/local/lib/python3.10/dist-packages (from aiohttp<4.0.0,>=3.8.6->llama-index-core<0.11.0,>=0.10.25->llama-index) (1.4.1)\n",
            "Requirement already satisfied: multidict<7.0,>=4.5 in /usr/local/lib/python3.10/dist-packages (from aiohttp<4.0.0,>=3.8.6->llama-index-core<0.11.0,>=0.10.25->llama-index) (6.0.5)\n",
            "Requirement already satisfied: yarl<2.0,>=1.0 in /usr/local/lib/python3.10/dist-packages (from aiohttp<4.0.0,>=3.8.6->llama-index-core<0.11.0,>=0.10.25->llama-index) (1.9.4)\n",
            "Requirement already satisfied: async-timeout<5.0,>=4.0 in /usr/local/lib/python3.10/dist-packages (from aiohttp<4.0.0,>=3.8.6->llama-index-core<0.11.0,>=0.10.25->llama-index) (4.0.3)\n",
            "Requirement already satisfied: soupsieve>1.2 in /usr/local/lib/python3.10/dist-packages (from beautifulsoup4<5.0.0,>=4.12.3->llama-index-readers-file<0.2.0,>=0.1.4->llama-index) (2.5)\n",
            "Requirement already satisfied: pydantic>=1.10 in /usr/local/lib/python3.10/dist-packages (from llamaindex-py-client<0.2.0,>=0.1.15->llama-index-core<0.11.0,>=0.10.25->llama-index) (2.6.4)\n",
            "Requirement already satisfied: anyio in /usr/local/lib/python3.10/dist-packages (from httpx->llama-index-core<0.11.0,>=0.10.25->llama-index) (3.7.1)\n",
            "Requirement already satisfied: certifi in /usr/local/lib/python3.10/dist-packages (from httpx->llama-index-core<0.11.0,>=0.10.25->llama-index) (2024.2.2)\n",
            "Collecting httpcore==1.* (from httpx->llama-index-core<0.11.0,>=0.10.25->llama-index)\n",
            "  Downloading httpcore-1.0.5-py3-none-any.whl (77 kB)\n",
            "\u001b[2K     \u001b[90m━━━━━━━━━━━━━━━━━━━━━━━━━━━━━━━━━━━━━━━━\u001b[0m \u001b[32m77.9/77.9 kB\u001b[0m \u001b[31m7.8 MB/s\u001b[0m eta \u001b[36m0:00:00\u001b[0m\n",
            "\u001b[?25hRequirement already satisfied: idna in /usr/local/lib/python3.10/dist-packages (from httpx->llama-index-core<0.11.0,>=0.10.25->llama-index) (3.6)\n",
            "Requirement already satisfied: sniffio in /usr/local/lib/python3.10/dist-packages (from httpx->llama-index-core<0.11.0,>=0.10.25->llama-index) (1.3.1)\n",
            "Collecting h11<0.15,>=0.13 (from httpcore==1.*->httpx->llama-index-core<0.11.0,>=0.10.25->llama-index)\n",
            "  Downloading h11-0.14.0-py3-none-any.whl (58 kB)\n",
            "\u001b[2K     \u001b[90m━━━━━━━━━━━━━━━━━━━━━━━━━━━━━━━━━━━━━━━━\u001b[0m \u001b[32m58.3/58.3 kB\u001b[0m \u001b[31m4.6 MB/s\u001b[0m eta \u001b[36m0:00:00\u001b[0m\n",
            "\u001b[?25hRequirement already satisfied: click in /usr/local/lib/python3.10/dist-packages (from nltk<4.0.0,>=3.8.1->llama-index-core<0.11.0,>=0.10.25->llama-index) (8.1.7)\n",
            "Requirement already satisfied: joblib in /usr/local/lib/python3.10/dist-packages (from nltk<4.0.0,>=3.8.1->llama-index-core<0.11.0,>=0.10.25->llama-index) (1.3.2)\n",
            "Requirement already satisfied: regex>=2021.8.3 in /usr/local/lib/python3.10/dist-packages (from nltk<4.0.0,>=3.8.1->llama-index-core<0.11.0,>=0.10.25->llama-index) (2023.12.25)\n",
            "Requirement already satisfied: distro<2,>=1.7.0 in /usr/lib/python3/dist-packages (from openai>=1.1.0->llama-index-core<0.11.0,>=0.10.25->llama-index) (1.7.0)\n",
            "Collecting PyMuPDFb==1.24.0 (from pymupdf<2.0.0,>=1.23.21->llama-index-readers-file<0.2.0,>=0.1.4->llama-index)\n",
            "  Downloading PyMuPDFb-1.24.0-py3-none-manylinux2014_x86_64.manylinux_2_17_x86_64.whl (30.8 MB)\n",
            "\u001b[2K     \u001b[90m━━━━━━━━━━━━━━━━━━━━━━━━━━━━━━━━━━━━━━━━\u001b[0m \u001b[32m30.8/30.8 MB\u001b[0m \u001b[31m24.9 MB/s\u001b[0m eta \u001b[36m0:00:00\u001b[0m\n",
            "\u001b[?25hRequirement already satisfied: charset-normalizer<4,>=2 in /usr/local/lib/python3.10/dist-packages (from requests>=2.31.0->llama-index-core<0.11.0,>=0.10.25->llama-index) (3.3.2)\n",
            "Requirement already satisfied: urllib3<3,>=1.21.1 in /usr/local/lib/python3.10/dist-packages (from requests>=2.31.0->llama-index-core<0.11.0,>=0.10.25->llama-index) (2.0.7)\n",
            "Requirement already satisfied: greenlet!=0.4.17 in /usr/local/lib/python3.10/dist-packages (from SQLAlchemy[asyncio]>=1.4.49->llama-index-core<0.11.0,>=0.10.25->llama-index) (3.0.3)\n",
            "Collecting mypy-extensions>=0.3.0 (from typing-inspect>=0.8.0->llama-index-core<0.11.0,>=0.10.25->llama-index)\n",
            "  Downloading mypy_extensions-1.0.0-py3-none-any.whl (4.7 kB)\n",
            "Collecting marshmallow<4.0.0,>=3.18.0 (from dataclasses-json->llama-index-core<0.11.0,>=0.10.25->llama-index)\n",
            "  Downloading marshmallow-3.21.1-py3-none-any.whl (49 kB)\n",
            "\u001b[2K     \u001b[90m━━━━━━━━━━━━━━━━━━━━━━━━━━━━━━━━━━━━━━━━\u001b[0m \u001b[32m49.4/49.4 kB\u001b[0m \u001b[31m3.7 MB/s\u001b[0m eta \u001b[36m0:00:00\u001b[0m\n",
            "\u001b[?25hRequirement already satisfied: python-dateutil>=2.8.1 in /usr/local/lib/python3.10/dist-packages (from pandas->llama-index-core<0.11.0,>=0.10.25->llama-index) (2.8.2)\n",
            "Requirement already satisfied: pytz>=2020.1 in /usr/local/lib/python3.10/dist-packages (from pandas->llama-index-core<0.11.0,>=0.10.25->llama-index) (2023.4)\n",
            "Requirement already satisfied: exceptiongroup in /usr/local/lib/python3.10/dist-packages (from anyio->httpx->llama-index-core<0.11.0,>=0.10.25->llama-index) (1.2.0)\n",
            "Requirement already satisfied: packaging>=17.0 in /usr/local/lib/python3.10/dist-packages (from marshmallow<4.0.0,>=3.18.0->dataclasses-json->llama-index-core<0.11.0,>=0.10.25->llama-index) (24.0)\n",
            "Requirement already satisfied: annotated-types>=0.4.0 in /usr/local/lib/python3.10/dist-packages (from pydantic>=1.10->llamaindex-py-client<0.2.0,>=0.1.15->llama-index-core<0.11.0,>=0.10.25->llama-index) (0.6.0)\n",
            "Requirement already satisfied: pydantic-core==2.16.3 in /usr/local/lib/python3.10/dist-packages (from pydantic>=1.10->llamaindex-py-client<0.2.0,>=0.1.15->llama-index-core<0.11.0,>=0.10.25->llama-index) (2.16.3)\n",
            "Requirement already satisfied: six>=1.5 in /usr/local/lib/python3.10/dist-packages (from python-dateutil>=2.8.1->pandas->llama-index-core<0.11.0,>=0.10.25->llama-index) (1.16.0)\n",
            "Installing collected packages: striprtf, dirtyjson, pypdf, PyMuPDFb, mypy-extensions, marshmallow, h11, deprecated, typing-inspect, tiktoken, pymupdf, httpcore, bs4, httpx, dataclasses-json, openai, llamaindex-py-client, llama-index-legacy, llama-index-core, llama-parse, llama-index-readers-file, llama-index-llms-openai, llama-index-indices-managed-llama-cloud, llama-index-embeddings-openai, llama-index-readers-llama-parse, llama-index-multi-modal-llms-openai, llama-index-cli, llama-index-agent-openai, llama-index-program-openai, llama-index-question-gen-openai, llama-index\n",
            "Successfully installed PyMuPDFb-1.24.0 bs4-0.0.2 dataclasses-json-0.6.4 deprecated-1.2.14 dirtyjson-1.0.8 h11-0.14.0 httpcore-1.0.5 httpx-0.27.0 llama-index-0.10.25 llama-index-agent-openai-0.2.1 llama-index-cli-0.1.11 llama-index-core-0.10.25.post3 llama-index-embeddings-openai-0.1.7 llama-index-indices-managed-llama-cloud-0.1.5 llama-index-legacy-0.9.48 llama-index-llms-openai-0.1.13 llama-index-multi-modal-llms-openai-0.1.4 llama-index-program-openai-0.1.5 llama-index-question-gen-openai-0.1.3 llama-index-readers-file-0.1.12 llama-index-readers-llama-parse-0.1.4 llama-parse-0.4.0 llamaindex-py-client-0.1.15 marshmallow-3.21.1 mypy-extensions-1.0.0 openai-1.14.3 pymupdf-1.24.0 pypdf-4.1.0 striprtf-0.0.26 tiktoken-0.6.0 typing-inspect-0.9.0\n"
          ]
        }
      ],
      "source": [
        "!pip install llama-index llama-parse"
      ]
    },
    {
      "cell_type": "markdown",
      "metadata": {
        "id": "5UTAxGHsMhD5"
      },
      "source": [
        "## Download an insurance policy fron IRDAI\n",
        "\n",
        "The Insurance Regulatory and Development Authority of India (IRDAI) maintains a great resource: https://policyholder.gov.in/web/guest/non-life-insurance-products where all insurance policies available in India are publicly available for download! Let's download a complex health insurance policy as an example."
      ]
    },
    {
      "cell_type": "code",
      "execution_count": null,
      "metadata": {
        "tags": [],
        "colab": {
          "base_uri": "https://localhost:8080/"
        },
        "id": "o2Nvb49JMhD5",
        "outputId": "b727f023-ebd4-4517-a628-eecd5cf70d1c"
      },
      "outputs": [
        {
          "output_type": "stream",
          "name": "stdout",
          "text": [
            "--2024-03-28 22:35:55--  https://policyholder.gov.in/documents/37343/931203/NBHTGBP22011V012223.pdf/c392bcc1-f6a8-cadd-ab84-495b3273d2c3?version=1.0&t=1669350459879&download=true\n",
            "Resolving policyholder.gov.in (policyholder.gov.in)... 13.107.246.51, 13.107.213.51\n",
            "Connecting to policyholder.gov.in (policyholder.gov.in)|13.107.246.51|:443... connected.\n",
            "HTTP request sent, awaiting response... 200 \n",
            "Length: 1341586 (1.3M) [application/pdf]\n",
            "Saving to: ‘./policy.pdf’\n",
            "\n",
            "./policy.pdf        100%[===================>]   1.28M   723KB/s    in 1.8s    \n",
            "\n",
            "2024-03-28 22:36:04 (723 KB/s) - ‘./policy.pdf’ saved [1341586/1341586]\n",
            "\n"
          ]
        }
      ],
      "source": [
        "!wget \"https://policyholder.gov.in/documents/37343/931203/NBHTGBP22011V012223.pdf/c392bcc1-f6a8-cadd-ab84-495b3273d2c3?version=1.0&t=1669350459879&download=true\" -O \"./policy.pdf\""
      ]
    },
    {
      "cell_type": "markdown",
      "metadata": {
        "id": "J8wLBrwUMhD5"
      },
      "source": [
        "## Initializing LlamaIndex and LlamaParse"
      ]
    },
    {
      "cell_type": "code",
      "execution_count": null,
      "metadata": {
        "tags": [],
        "id": "PZ7ynOKeMhD6"
      },
      "outputs": [],
      "source": [
        "# llama-parse is async-first, running the sync code in a notebook requires the use of nest_asyncio\n",
        "import nest_asyncio\n",
        "nest_asyncio.apply()"
      ]
    },
    {
      "cell_type": "code",
      "execution_count": null,
      "metadata": {
        "id": "XcW8UrTuMhD6"
      },
      "outputs": [],
      "source": [
        "import os\n",
        "from google.colab import userdata\n",
        "os.environ[\"LLAMA_CLOUD_API_KEY\"] = userdata.get('llama-cloud-key')\n",
        "os.environ[\"OPENAI_API_KEY\"] = userdata.get('openai-key')"
      ]
    },
    {
      "cell_type": "code",
      "execution_count": null,
      "metadata": {
        "tags": [],
        "id": "cyInSgzhMhD6"
      },
      "outputs": [],
      "source": [
        "from llama_index.llms.openai import OpenAI\n",
        "from llama_index.embeddings.openai import OpenAIEmbedding\n",
        "from llama_index.core import VectorStoreIndex\n",
        "from llama_index.core import Settings\n",
        "\n",
        "# for the purpose of this example, we will use the small model embedding and gpt3.5\n",
        "embed_model=OpenAIEmbedding(model=\"text-embedding-3-small\")\n",
        "llm = OpenAI(model=\"gpt-3.5-turbo-0125\")\n",
        "\n",
        "Settings.llm = llm"
      ]
    },
    {
      "cell_type": "markdown",
      "metadata": {
        "id": "9m7dWPklMhD6"
      },
      "source": [
        "## Vanilla Approach - Parse the Policy with LlamaParse into Markdown"
      ]
    },
    {
      "cell_type": "code",
      "execution_count": null,
      "metadata": {
        "tags": [],
        "colab": {
          "base_uri": "https://localhost:8080/"
        },
        "id": "D8-cVCLlMhD6",
        "outputId": "292a563f-a1de-4f08-bd73-ed53f8fd425d"
      },
      "outputs": [
        {
          "output_type": "stream",
          "name": "stdout",
          "text": [
            "Started parsing the file under job_id 1a2ce0e8-e796-4728-be06-cc0de97ff9f3\n"
          ]
        }
      ],
      "source": [
        "from llama_parse import LlamaParse\n",
        "\n",
        "documents = LlamaParse(result_type=\"markdown\").load_data(\"./policy.pdf\")"
      ]
    },
    {
      "cell_type": "code",
      "execution_count": null,
      "metadata": {
        "tags": [],
        "colab": {
          "base_uri": "https://localhost:8080/"
        },
        "id": "y78BLv_uMhD7",
        "outputId": "46935816-4546-4ecc-9746-a94bf52c21d0"
      },
      "outputs": [
        {
          "output_type": "stream",
          "name": "stdout",
          "text": [
            "## Preamble\n",
            "\n",
            "This ‘Travel Infinity’ Policy is a contract of insurance between You and Us which is subject to payment of full premium in advance and the terms, conditions and exclusions of this Policy. Expense incurred outside the policy period will NOT be covered. Unutilized Sum Insured will expire at the end of the policy year. All applicable benefits, details and limits are mentioned in your Certificate of insurance. We will cover only allopathic treatments in this policy.\n",
            "\n",
            "## Defined Terms\n",
            "\n",
            "The terms listed below in this Section and used elsewhere in the Policy in Initial Capitals shall have the meaning set out against them in this Section.\n",
            "\n",
            "### Standard Definitions\n",
            "\n",
            "|2.1|Accident or Accidental|means sudden, unforeseen and involuntary event caused by external, visible and violent means.|\n",
            "|---|---|---|\n",
            "|2.2|Co-payment|means a cost sharing requirement under a health insurance policy that provides that the policyholder/insured will bear a specified percentage of the admissible claims a\n"
          ]
        }
      ],
      "source": [
        "print(documents[0].text[0:1000])"
      ]
    },
    {
      "cell_type": "markdown",
      "metadata": {
        "id": "xGpQJ3D_MhD7"
      },
      "source": [
        "### Markdown Element Node Parser\n",
        "Our markdown element node parser works well for parsing the markdown output of LlamaParse into a set of table and text nodes."
      ]
    },
    {
      "cell_type": "code",
      "execution_count": null,
      "metadata": {
        "tags": [],
        "id": "pqDqiReLMhD7"
      },
      "outputs": [],
      "source": [
        "from llama_index.core.node_parser import MarkdownElementNodeParser\n",
        "\n",
        "node_parser = MarkdownElementNodeParser(llm=OpenAI(model=\"gpt-3.5-turbo-0125\"), num_workers=8)"
      ]
    },
    {
      "cell_type": "code",
      "execution_count": null,
      "metadata": {
        "tags": [],
        "colab": {
          "base_uri": "https://localhost:8080/"
        },
        "id": "8YNxQoucMhD7",
        "outputId": "cd8ffd43-3bd6-453f-a583-ae39c77164dd"
      },
      "outputs": [
        {
          "output_type": "stream",
          "name": "stderr",
          "text": [
            "93it [00:00, 19285.59it/s]\n",
            "  0%|          | 0/93 [00:00<?, ?it/s]WARNING:llama_index.core.response_synthesizers.refine:Validation error on structured response: 1 validation error for TableOutput\n",
            "columns\n",
            "  field required (type=value_error.missing)\n",
            "Traceback (most recent call last):\n",
            "  File \"/usr/local/lib/python3.10/dist-packages/llama_index/core/response_synthesizers/refine.py\", line 477, in _agive_response_single\n",
            "    structured_response = await program.acall(\n",
            "  File \"/usr/local/lib/python3.10/dist-packages/llama_index/core/response_synthesizers/refine.py\", line 92, in acall\n",
            "    answer = await self._llm.astructured_predict(\n",
            "  File \"/usr/local/lib/python3.10/dist-packages/llama_index/core/instrumentation/dispatcher.py\", line 162, in async_wrapper\n",
            "    self.span_drop(id_=id_, bound_args=bound_args, instance=instance, err=e)\n",
            "  File \"/usr/local/lib/python3.10/dist-packages/llama_index/core/instrumentation/dispatcher.py\", line 98, in span_drop\n",
            "    h.span_drop(\n",
            "  File \"/usr/local/lib/python3.10/dist-packages/llama_index/core/instrumentation/span_handlers/base.py\", line 77, in span_drop\n",
            "    span = self.prepare_to_drop_span(\n",
            "  File \"/usr/local/lib/python3.10/dist-packages/llama_index/core/instrumentation/span_handlers/null.py\", line 71, in prepare_to_drop_span\n",
            "    raise err\n",
            "  File \"/usr/local/lib/python3.10/dist-packages/llama_index/core/instrumentation/dispatcher.py\", line 160, in async_wrapper\n",
            "    result = await func(*args, **kwargs)\n",
            "  File \"/usr/local/lib/python3.10/dist-packages/llama_index/core/llms/llm.py\", line 379, in astructured_predict\n",
            "    return await program.acall(**prompt_args)\n",
            "  File \"/usr/local/lib/python3.10/dist-packages/llama_index/program/openai/base.py\", line 220, in acall\n",
            "    return _parse_tool_calls(\n",
            "  File \"/usr/local/lib/python3.10/dist-packages/llama_index/program/openai/base.py\", line 64, in _parse_tool_calls\n",
            "    output = output_cls.parse_raw(function_call.arguments)\n",
            "  File \"/usr/local/lib/python3.10/dist-packages/pydantic/v1/main.py\", line 549, in parse_raw\n",
            "    return cls.parse_obj(obj)\n",
            "  File \"/usr/local/lib/python3.10/dist-packages/pydantic/v1/main.py\", line 526, in parse_obj\n",
            "    return cls(**obj)\n",
            "  File \"/usr/local/lib/python3.10/dist-packages/pydantic/v1/main.py\", line 341, in __init__\n",
            "    raise validation_error\n",
            "pydantic.v1.error_wrappers.ValidationError: 1 validation error for TableOutput\n",
            "columns\n",
            "  field required (type=value_error.missing)\n",
            "  6%|▋         | 6/93 [00:04<00:42,  2.02it/s]WARNING:llama_index.core.response_synthesizers.refine:Validation error on structured response: 1 validation error for TableOutput\n",
            "columns\n",
            "  field required (type=value_error.missing)\n",
            "Traceback (most recent call last):\n",
            "  File \"/usr/local/lib/python3.10/dist-packages/llama_index/core/response_synthesizers/refine.py\", line 477, in _agive_response_single\n",
            "    structured_response = await program.acall(\n",
            "  File \"/usr/local/lib/python3.10/dist-packages/llama_index/core/response_synthesizers/refine.py\", line 92, in acall\n",
            "    answer = await self._llm.astructured_predict(\n",
            "  File \"/usr/local/lib/python3.10/dist-packages/llama_index/core/instrumentation/dispatcher.py\", line 162, in async_wrapper\n",
            "    self.span_drop(id_=id_, bound_args=bound_args, instance=instance, err=e)\n",
            "  File \"/usr/local/lib/python3.10/dist-packages/llama_index/core/instrumentation/dispatcher.py\", line 98, in span_drop\n",
            "    h.span_drop(\n",
            "  File \"/usr/local/lib/python3.10/dist-packages/llama_index/core/instrumentation/span_handlers/base.py\", line 77, in span_drop\n",
            "    span = self.prepare_to_drop_span(\n",
            "  File \"/usr/local/lib/python3.10/dist-packages/llama_index/core/instrumentation/span_handlers/null.py\", line 71, in prepare_to_drop_span\n",
            "    raise err\n",
            "  File \"/usr/local/lib/python3.10/dist-packages/llama_index/core/instrumentation/dispatcher.py\", line 160, in async_wrapper\n",
            "    result = await func(*args, **kwargs)\n",
            "  File \"/usr/local/lib/python3.10/dist-packages/llama_index/core/llms/llm.py\", line 379, in astructured_predict\n",
            "    return await program.acall(**prompt_args)\n",
            "  File \"/usr/local/lib/python3.10/dist-packages/llama_index/program/openai/base.py\", line 220, in acall\n",
            "    return _parse_tool_calls(\n",
            "  File \"/usr/local/lib/python3.10/dist-packages/llama_index/program/openai/base.py\", line 64, in _parse_tool_calls\n",
            "    output = output_cls.parse_raw(function_call.arguments)\n",
            "  File \"/usr/local/lib/python3.10/dist-packages/pydantic/v1/main.py\", line 549, in parse_raw\n",
            "    return cls.parse_obj(obj)\n",
            "  File \"/usr/local/lib/python3.10/dist-packages/pydantic/v1/main.py\", line 526, in parse_obj\n",
            "    return cls(**obj)\n",
            "  File \"/usr/local/lib/python3.10/dist-packages/pydantic/v1/main.py\", line 341, in __init__\n",
            "    raise validation_error\n",
            "pydantic.v1.error_wrappers.ValidationError: 1 validation error for TableOutput\n",
            "columns\n",
            "  field required (type=value_error.missing)\n",
            " 13%|█▎        | 12/93 [00:06<00:25,  3.24it/s]WARNING:llama_index.core.response_synthesizers.refine:Validation error on structured response: 1 validation error for TableOutput\n",
            "columns\n",
            "  field required (type=value_error.missing)\n",
            "Traceback (most recent call last):\n",
            "  File \"/usr/local/lib/python3.10/dist-packages/llama_index/core/response_synthesizers/refine.py\", line 477, in _agive_response_single\n",
            "    structured_response = await program.acall(\n",
            "  File \"/usr/local/lib/python3.10/dist-packages/llama_index/core/response_synthesizers/refine.py\", line 92, in acall\n",
            "    answer = await self._llm.astructured_predict(\n",
            "  File \"/usr/local/lib/python3.10/dist-packages/llama_index/core/instrumentation/dispatcher.py\", line 162, in async_wrapper\n",
            "    self.span_drop(id_=id_, bound_args=bound_args, instance=instance, err=e)\n",
            "  File \"/usr/local/lib/python3.10/dist-packages/llama_index/core/instrumentation/dispatcher.py\", line 98, in span_drop\n",
            "    h.span_drop(\n",
            "  File \"/usr/local/lib/python3.10/dist-packages/llama_index/core/instrumentation/span_handlers/base.py\", line 77, in span_drop\n",
            "    span = self.prepare_to_drop_span(\n",
            "  File \"/usr/local/lib/python3.10/dist-packages/llama_index/core/instrumentation/span_handlers/null.py\", line 71, in prepare_to_drop_span\n",
            "    raise err\n",
            "  File \"/usr/local/lib/python3.10/dist-packages/llama_index/core/instrumentation/dispatcher.py\", line 160, in async_wrapper\n",
            "    result = await func(*args, **kwargs)\n",
            "  File \"/usr/local/lib/python3.10/dist-packages/llama_index/core/llms/llm.py\", line 379, in astructured_predict\n",
            "    return await program.acall(**prompt_args)\n",
            "  File \"/usr/local/lib/python3.10/dist-packages/llama_index/program/openai/base.py\", line 220, in acall\n",
            "    return _parse_tool_calls(\n",
            "  File \"/usr/local/lib/python3.10/dist-packages/llama_index/program/openai/base.py\", line 64, in _parse_tool_calls\n",
            "    output = output_cls.parse_raw(function_call.arguments)\n",
            "  File \"/usr/local/lib/python3.10/dist-packages/pydantic/v1/main.py\", line 549, in parse_raw\n",
            "    return cls.parse_obj(obj)\n",
            "  File \"/usr/local/lib/python3.10/dist-packages/pydantic/v1/main.py\", line 526, in parse_obj\n",
            "    return cls(**obj)\n",
            "  File \"/usr/local/lib/python3.10/dist-packages/pydantic/v1/main.py\", line 341, in __init__\n",
            "    raise validation_error\n",
            "pydantic.v1.error_wrappers.ValidationError: 1 validation error for TableOutput\n",
            "columns\n",
            "  field required (type=value_error.missing)\n",
            " 15%|█▌        | 14/93 [00:06<00:22,  3.48it/s]WARNING:llama_index.core.response_synthesizers.refine:Validation error on structured response: 1 validation error for TableOutput\n",
            "columns\n",
            "  field required (type=value_error.missing)\n",
            "Traceback (most recent call last):\n",
            "  File \"/usr/local/lib/python3.10/dist-packages/llama_index/core/response_synthesizers/refine.py\", line 477, in _agive_response_single\n",
            "    structured_response = await program.acall(\n",
            "  File \"/usr/local/lib/python3.10/dist-packages/llama_index/core/response_synthesizers/refine.py\", line 92, in acall\n",
            "    answer = await self._llm.astructured_predict(\n",
            "  File \"/usr/local/lib/python3.10/dist-packages/llama_index/core/instrumentation/dispatcher.py\", line 162, in async_wrapper\n",
            "    self.span_drop(id_=id_, bound_args=bound_args, instance=instance, err=e)\n",
            "  File \"/usr/local/lib/python3.10/dist-packages/llama_index/core/instrumentation/dispatcher.py\", line 98, in span_drop\n",
            "    h.span_drop(\n",
            "  File \"/usr/local/lib/python3.10/dist-packages/llama_index/core/instrumentation/span_handlers/base.py\", line 77, in span_drop\n",
            "    span = self.prepare_to_drop_span(\n",
            "  File \"/usr/local/lib/python3.10/dist-packages/llama_index/core/instrumentation/span_handlers/null.py\", line 71, in prepare_to_drop_span\n",
            "    raise err\n",
            "  File \"/usr/local/lib/python3.10/dist-packages/llama_index/core/instrumentation/dispatcher.py\", line 160, in async_wrapper\n",
            "    result = await func(*args, **kwargs)\n",
            "  File \"/usr/local/lib/python3.10/dist-packages/llama_index/core/llms/llm.py\", line 379, in astructured_predict\n",
            "    return await program.acall(**prompt_args)\n",
            "  File \"/usr/local/lib/python3.10/dist-packages/llama_index/program/openai/base.py\", line 220, in acall\n",
            "    return _parse_tool_calls(\n",
            "  File \"/usr/local/lib/python3.10/dist-packages/llama_index/program/openai/base.py\", line 64, in _parse_tool_calls\n",
            "    output = output_cls.parse_raw(function_call.arguments)\n",
            "  File \"/usr/local/lib/python3.10/dist-packages/pydantic/v1/main.py\", line 549, in parse_raw\n",
            "    return cls.parse_obj(obj)\n",
            "  File \"/usr/local/lib/python3.10/dist-packages/pydantic/v1/main.py\", line 526, in parse_obj\n",
            "    return cls(**obj)\n",
            "  File \"/usr/local/lib/python3.10/dist-packages/pydantic/v1/main.py\", line 341, in __init__\n",
            "    raise validation_error\n",
            "pydantic.v1.error_wrappers.ValidationError: 1 validation error for TableOutput\n",
            "columns\n",
            "  field required (type=value_error.missing)\n",
            " 39%|███▊      | 36/93 [00:14<00:20,  2.78it/s]WARNING:llama_index.core.response_synthesizers.refine:Validation error on structured response: 1 validation error for TableOutput\n",
            "columns\n",
            "  field required (type=value_error.missing)\n",
            "Traceback (most recent call last):\n",
            "  File \"/usr/local/lib/python3.10/dist-packages/llama_index/core/response_synthesizers/refine.py\", line 477, in _agive_response_single\n",
            "    structured_response = await program.acall(\n",
            "  File \"/usr/local/lib/python3.10/dist-packages/llama_index/core/response_synthesizers/refine.py\", line 92, in acall\n",
            "    answer = await self._llm.astructured_predict(\n",
            "  File \"/usr/local/lib/python3.10/dist-packages/llama_index/core/instrumentation/dispatcher.py\", line 162, in async_wrapper\n",
            "    self.span_drop(id_=id_, bound_args=bound_args, instance=instance, err=e)\n",
            "  File \"/usr/local/lib/python3.10/dist-packages/llama_index/core/instrumentation/dispatcher.py\", line 98, in span_drop\n",
            "    h.span_drop(\n",
            "  File \"/usr/local/lib/python3.10/dist-packages/llama_index/core/instrumentation/span_handlers/base.py\", line 77, in span_drop\n",
            "    span = self.prepare_to_drop_span(\n",
            "  File \"/usr/local/lib/python3.10/dist-packages/llama_index/core/instrumentation/span_handlers/null.py\", line 71, in prepare_to_drop_span\n",
            "    raise err\n",
            "  File \"/usr/local/lib/python3.10/dist-packages/llama_index/core/instrumentation/dispatcher.py\", line 160, in async_wrapper\n",
            "    result = await func(*args, **kwargs)\n",
            "  File \"/usr/local/lib/python3.10/dist-packages/llama_index/core/llms/llm.py\", line 379, in astructured_predict\n",
            "    return await program.acall(**prompt_args)\n",
            "  File \"/usr/local/lib/python3.10/dist-packages/llama_index/program/openai/base.py\", line 220, in acall\n",
            "    return _parse_tool_calls(\n",
            "  File \"/usr/local/lib/python3.10/dist-packages/llama_index/program/openai/base.py\", line 64, in _parse_tool_calls\n",
            "    output = output_cls.parse_raw(function_call.arguments)\n",
            "  File \"/usr/local/lib/python3.10/dist-packages/pydantic/v1/main.py\", line 549, in parse_raw\n",
            "    return cls.parse_obj(obj)\n",
            "  File \"/usr/local/lib/python3.10/dist-packages/pydantic/v1/main.py\", line 526, in parse_obj\n",
            "    return cls(**obj)\n",
            "  File \"/usr/local/lib/python3.10/dist-packages/pydantic/v1/main.py\", line 341, in __init__\n",
            "    raise validation_error\n",
            "pydantic.v1.error_wrappers.ValidationError: 1 validation error for TableOutput\n",
            "columns\n",
            "  field required (type=value_error.missing)\n",
            "WARNING:llama_index.core.response_synthesizers.refine:Validation error on structured response: 1 validation error for TableOutput\n",
            "columns\n",
            "  field required (type=value_error.missing)\n",
            "Traceback (most recent call last):\n",
            "  File \"/usr/local/lib/python3.10/dist-packages/llama_index/core/response_synthesizers/refine.py\", line 477, in _agive_response_single\n",
            "    structured_response = await program.acall(\n",
            "  File \"/usr/local/lib/python3.10/dist-packages/llama_index/core/response_synthesizers/refine.py\", line 92, in acall\n",
            "    answer = await self._llm.astructured_predict(\n",
            "  File \"/usr/local/lib/python3.10/dist-packages/llama_index/core/instrumentation/dispatcher.py\", line 162, in async_wrapper\n",
            "    self.span_drop(id_=id_, bound_args=bound_args, instance=instance, err=e)\n",
            "  File \"/usr/local/lib/python3.10/dist-packages/llama_index/core/instrumentation/dispatcher.py\", line 98, in span_drop\n",
            "    h.span_drop(\n",
            "  File \"/usr/local/lib/python3.10/dist-packages/llama_index/core/instrumentation/span_handlers/base.py\", line 77, in span_drop\n",
            "    span = self.prepare_to_drop_span(\n",
            "  File \"/usr/local/lib/python3.10/dist-packages/llama_index/core/instrumentation/span_handlers/null.py\", line 71, in prepare_to_drop_span\n",
            "    raise err\n",
            "  File \"/usr/local/lib/python3.10/dist-packages/llama_index/core/instrumentation/dispatcher.py\", line 160, in async_wrapper\n",
            "    result = await func(*args, **kwargs)\n",
            "  File \"/usr/local/lib/python3.10/dist-packages/llama_index/core/llms/llm.py\", line 379, in astructured_predict\n",
            "    return await program.acall(**prompt_args)\n",
            "  File \"/usr/local/lib/python3.10/dist-packages/llama_index/program/openai/base.py\", line 220, in acall\n",
            "    return _parse_tool_calls(\n",
            "  File \"/usr/local/lib/python3.10/dist-packages/llama_index/program/openai/base.py\", line 64, in _parse_tool_calls\n",
            "    output = output_cls.parse_raw(function_call.arguments)\n",
            "  File \"/usr/local/lib/python3.10/dist-packages/pydantic/v1/main.py\", line 549, in parse_raw\n",
            "    return cls.parse_obj(obj)\n",
            "  File \"/usr/local/lib/python3.10/dist-packages/pydantic/v1/main.py\", line 526, in parse_obj\n",
            "    return cls(**obj)\n",
            "  File \"/usr/local/lib/python3.10/dist-packages/pydantic/v1/main.py\", line 341, in __init__\n",
            "    raise validation_error\n",
            "pydantic.v1.error_wrappers.ValidationError: 1 validation error for TableOutput\n",
            "columns\n",
            "  field required (type=value_error.missing)\n",
            " 41%|████      | 38/93 [00:14<00:16,  3.30it/s]WARNING:llama_index.core.response_synthesizers.refine:Validation error on structured response: 1 validation error for TableOutput\n",
            "columns\n",
            "  field required (type=value_error.missing)\n",
            "Traceback (most recent call last):\n",
            "  File \"/usr/local/lib/python3.10/dist-packages/llama_index/core/response_synthesizers/refine.py\", line 477, in _agive_response_single\n",
            "    structured_response = await program.acall(\n",
            "  File \"/usr/local/lib/python3.10/dist-packages/llama_index/core/response_synthesizers/refine.py\", line 92, in acall\n",
            "    answer = await self._llm.astructured_predict(\n",
            "  File \"/usr/local/lib/python3.10/dist-packages/llama_index/core/instrumentation/dispatcher.py\", line 162, in async_wrapper\n",
            "    self.span_drop(id_=id_, bound_args=bound_args, instance=instance, err=e)\n",
            "  File \"/usr/local/lib/python3.10/dist-packages/llama_index/core/instrumentation/dispatcher.py\", line 98, in span_drop\n",
            "    h.span_drop(\n",
            "  File \"/usr/local/lib/python3.10/dist-packages/llama_index/core/instrumentation/span_handlers/base.py\", line 77, in span_drop\n",
            "    span = self.prepare_to_drop_span(\n",
            "  File \"/usr/local/lib/python3.10/dist-packages/llama_index/core/instrumentation/span_handlers/null.py\", line 71, in prepare_to_drop_span\n",
            "    raise err\n",
            "  File \"/usr/local/lib/python3.10/dist-packages/llama_index/core/instrumentation/dispatcher.py\", line 160, in async_wrapper\n",
            "    result = await func(*args, **kwargs)\n",
            "  File \"/usr/local/lib/python3.10/dist-packages/llama_index/core/llms/llm.py\", line 379, in astructured_predict\n",
            "    return await program.acall(**prompt_args)\n",
            "  File \"/usr/local/lib/python3.10/dist-packages/llama_index/program/openai/base.py\", line 220, in acall\n",
            "    return _parse_tool_calls(\n",
            "  File \"/usr/local/lib/python3.10/dist-packages/llama_index/program/openai/base.py\", line 64, in _parse_tool_calls\n",
            "    output = output_cls.parse_raw(function_call.arguments)\n",
            "  File \"/usr/local/lib/python3.10/dist-packages/pydantic/v1/main.py\", line 549, in parse_raw\n",
            "    return cls.parse_obj(obj)\n",
            "  File \"/usr/local/lib/python3.10/dist-packages/pydantic/v1/main.py\", line 526, in parse_obj\n",
            "    return cls(**obj)\n",
            "  File \"/usr/local/lib/python3.10/dist-packages/pydantic/v1/main.py\", line 341, in __init__\n",
            "    raise validation_error\n",
            "pydantic.v1.error_wrappers.ValidationError: 1 validation error for TableOutput\n",
            "columns\n",
            "  field required (type=value_error.missing)\n",
            " 43%|████▎     | 40/93 [00:15<00:17,  3.07it/s]WARNING:llama_index.core.response_synthesizers.refine:Validation error on structured response: 1 validation error for TableOutput\n",
            "columns\n",
            "  field required (type=value_error.missing)\n",
            "Traceback (most recent call last):\n",
            "  File \"/usr/local/lib/python3.10/dist-packages/llama_index/core/response_synthesizers/refine.py\", line 477, in _agive_response_single\n",
            "    structured_response = await program.acall(\n",
            "  File \"/usr/local/lib/python3.10/dist-packages/llama_index/core/response_synthesizers/refine.py\", line 92, in acall\n",
            "    answer = await self._llm.astructured_predict(\n",
            "  File \"/usr/local/lib/python3.10/dist-packages/llama_index/core/instrumentation/dispatcher.py\", line 162, in async_wrapper\n",
            "    self.span_drop(id_=id_, bound_args=bound_args, instance=instance, err=e)\n",
            "  File \"/usr/local/lib/python3.10/dist-packages/llama_index/core/instrumentation/dispatcher.py\", line 98, in span_drop\n",
            "    h.span_drop(\n",
            "  File \"/usr/local/lib/python3.10/dist-packages/llama_index/core/instrumentation/span_handlers/base.py\", line 77, in span_drop\n",
            "    span = self.prepare_to_drop_span(\n",
            "  File \"/usr/local/lib/python3.10/dist-packages/llama_index/core/instrumentation/span_handlers/null.py\", line 71, in prepare_to_drop_span\n",
            "    raise err\n",
            "  File \"/usr/local/lib/python3.10/dist-packages/llama_index/core/instrumentation/dispatcher.py\", line 160, in async_wrapper\n",
            "    result = await func(*args, **kwargs)\n",
            "  File \"/usr/local/lib/python3.10/dist-packages/llama_index/core/llms/llm.py\", line 379, in astructured_predict\n",
            "    return await program.acall(**prompt_args)\n",
            "  File \"/usr/local/lib/python3.10/dist-packages/llama_index/program/openai/base.py\", line 220, in acall\n",
            "    return _parse_tool_calls(\n",
            "  File \"/usr/local/lib/python3.10/dist-packages/llama_index/program/openai/base.py\", line 64, in _parse_tool_calls\n",
            "    output = output_cls.parse_raw(function_call.arguments)\n",
            "  File \"/usr/local/lib/python3.10/dist-packages/pydantic/v1/main.py\", line 549, in parse_raw\n",
            "    return cls.parse_obj(obj)\n",
            "  File \"/usr/local/lib/python3.10/dist-packages/pydantic/v1/main.py\", line 526, in parse_obj\n",
            "    return cls(**obj)\n",
            "  File \"/usr/local/lib/python3.10/dist-packages/pydantic/v1/main.py\", line 341, in __init__\n",
            "    raise validation_error\n",
            "pydantic.v1.error_wrappers.ValidationError: 1 validation error for TableOutput\n",
            "columns\n",
            "  field required (type=value_error.missing)\n",
            " 45%|████▌     | 42/93 [00:16<00:19,  2.64it/s]WARNING:llama_index.core.response_synthesizers.refine:Validation error on structured response: 1 validation error for TableOutput\n",
            "columns\n",
            "  field required (type=value_error.missing)\n",
            "Traceback (most recent call last):\n",
            "  File \"/usr/local/lib/python3.10/dist-packages/llama_index/core/response_synthesizers/refine.py\", line 477, in _agive_response_single\n",
            "    structured_response = await program.acall(\n",
            "  File \"/usr/local/lib/python3.10/dist-packages/llama_index/core/response_synthesizers/refine.py\", line 92, in acall\n",
            "    answer = await self._llm.astructured_predict(\n",
            "  File \"/usr/local/lib/python3.10/dist-packages/llama_index/core/instrumentation/dispatcher.py\", line 162, in async_wrapper\n",
            "    self.span_drop(id_=id_, bound_args=bound_args, instance=instance, err=e)\n",
            "  File \"/usr/local/lib/python3.10/dist-packages/llama_index/core/instrumentation/dispatcher.py\", line 98, in span_drop\n",
            "    h.span_drop(\n",
            "  File \"/usr/local/lib/python3.10/dist-packages/llama_index/core/instrumentation/span_handlers/base.py\", line 77, in span_drop\n",
            "    span = self.prepare_to_drop_span(\n",
            "  File \"/usr/local/lib/python3.10/dist-packages/llama_index/core/instrumentation/span_handlers/null.py\", line 71, in prepare_to_drop_span\n",
            "    raise err\n",
            "  File \"/usr/local/lib/python3.10/dist-packages/llama_index/core/instrumentation/dispatcher.py\", line 160, in async_wrapper\n",
            "    result = await func(*args, **kwargs)\n",
            "  File \"/usr/local/lib/python3.10/dist-packages/llama_index/core/llms/llm.py\", line 379, in astructured_predict\n",
            "    return await program.acall(**prompt_args)\n",
            "  File \"/usr/local/lib/python3.10/dist-packages/llama_index/program/openai/base.py\", line 220, in acall\n",
            "    return _parse_tool_calls(\n",
            "  File \"/usr/local/lib/python3.10/dist-packages/llama_index/program/openai/base.py\", line 64, in _parse_tool_calls\n",
            "    output = output_cls.parse_raw(function_call.arguments)\n",
            "  File \"/usr/local/lib/python3.10/dist-packages/pydantic/v1/main.py\", line 549, in parse_raw\n",
            "    return cls.parse_obj(obj)\n",
            "  File \"/usr/local/lib/python3.10/dist-packages/pydantic/v1/main.py\", line 526, in parse_obj\n",
            "    return cls(**obj)\n",
            "  File \"/usr/local/lib/python3.10/dist-packages/pydantic/v1/main.py\", line 341, in __init__\n",
            "    raise validation_error\n",
            "pydantic.v1.error_wrappers.ValidationError: 1 validation error for TableOutput\n",
            "columns\n",
            "  field required (type=value_error.missing)\n",
            " 49%|████▉     | 46/93 [00:17<00:12,  3.77it/s]WARNING:llama_index.core.response_synthesizers.refine:Validation error on structured response: 1 validation error for TableOutput\n",
            "columns\n",
            "  field required (type=value_error.missing)\n",
            "Traceback (most recent call last):\n",
            "  File \"/usr/local/lib/python3.10/dist-packages/llama_index/core/response_synthesizers/refine.py\", line 477, in _agive_response_single\n",
            "    structured_response = await program.acall(\n",
            "  File \"/usr/local/lib/python3.10/dist-packages/llama_index/core/response_synthesizers/refine.py\", line 92, in acall\n",
            "    answer = await self._llm.astructured_predict(\n",
            "  File \"/usr/local/lib/python3.10/dist-packages/llama_index/core/instrumentation/dispatcher.py\", line 162, in async_wrapper\n",
            "    self.span_drop(id_=id_, bound_args=bound_args, instance=instance, err=e)\n",
            "  File \"/usr/local/lib/python3.10/dist-packages/llama_index/core/instrumentation/dispatcher.py\", line 98, in span_drop\n",
            "    h.span_drop(\n",
            "  File \"/usr/local/lib/python3.10/dist-packages/llama_index/core/instrumentation/span_handlers/base.py\", line 77, in span_drop\n",
            "    span = self.prepare_to_drop_span(\n",
            "  File \"/usr/local/lib/python3.10/dist-packages/llama_index/core/instrumentation/span_handlers/null.py\", line 71, in prepare_to_drop_span\n",
            "    raise err\n",
            "  File \"/usr/local/lib/python3.10/dist-packages/llama_index/core/instrumentation/dispatcher.py\", line 160, in async_wrapper\n",
            "    result = await func(*args, **kwargs)\n",
            "  File \"/usr/local/lib/python3.10/dist-packages/llama_index/core/llms/llm.py\", line 379, in astructured_predict\n",
            "    return await program.acall(**prompt_args)\n",
            "  File \"/usr/local/lib/python3.10/dist-packages/llama_index/program/openai/base.py\", line 220, in acall\n",
            "    return _parse_tool_calls(\n",
            "  File \"/usr/local/lib/python3.10/dist-packages/llama_index/program/openai/base.py\", line 64, in _parse_tool_calls\n",
            "    output = output_cls.parse_raw(function_call.arguments)\n",
            "  File \"/usr/local/lib/python3.10/dist-packages/pydantic/v1/main.py\", line 549, in parse_raw\n",
            "    return cls.parse_obj(obj)\n",
            "  File \"/usr/local/lib/python3.10/dist-packages/pydantic/v1/main.py\", line 526, in parse_obj\n",
            "    return cls(**obj)\n",
            "  File \"/usr/local/lib/python3.10/dist-packages/pydantic/v1/main.py\", line 341, in __init__\n",
            "    raise validation_error\n",
            "pydantic.v1.error_wrappers.ValidationError: 1 validation error for TableOutput\n",
            "columns\n",
            "  field required (type=value_error.missing)\n",
            " 57%|█████▋    | 53/93 [00:19<00:09,  4.29it/s]WARNING:llama_index.core.response_synthesizers.refine:Validation error on structured response: 1 validation error for TableOutput\n",
            "columns\n",
            "  field required (type=value_error.missing)\n",
            "Traceback (most recent call last):\n",
            "  File \"/usr/local/lib/python3.10/dist-packages/llama_index/core/response_synthesizers/refine.py\", line 477, in _agive_response_single\n",
            "    structured_response = await program.acall(\n",
            "  File \"/usr/local/lib/python3.10/dist-packages/llama_index/core/response_synthesizers/refine.py\", line 92, in acall\n",
            "    answer = await self._llm.astructured_predict(\n",
            "  File \"/usr/local/lib/python3.10/dist-packages/llama_index/core/instrumentation/dispatcher.py\", line 162, in async_wrapper\n",
            "    self.span_drop(id_=id_, bound_args=bound_args, instance=instance, err=e)\n",
            "  File \"/usr/local/lib/python3.10/dist-packages/llama_index/core/instrumentation/dispatcher.py\", line 98, in span_drop\n",
            "    h.span_drop(\n",
            "  File \"/usr/local/lib/python3.10/dist-packages/llama_index/core/instrumentation/span_handlers/base.py\", line 77, in span_drop\n",
            "    span = self.prepare_to_drop_span(\n",
            "  File \"/usr/local/lib/python3.10/dist-packages/llama_index/core/instrumentation/span_handlers/null.py\", line 71, in prepare_to_drop_span\n",
            "    raise err\n",
            "  File \"/usr/local/lib/python3.10/dist-packages/llama_index/core/instrumentation/dispatcher.py\", line 160, in async_wrapper\n",
            "    result = await func(*args, **kwargs)\n",
            "  File \"/usr/local/lib/python3.10/dist-packages/llama_index/core/llms/llm.py\", line 379, in astructured_predict\n",
            "    return await program.acall(**prompt_args)\n",
            "  File \"/usr/local/lib/python3.10/dist-packages/llama_index/program/openai/base.py\", line 220, in acall\n",
            "    return _parse_tool_calls(\n",
            "  File \"/usr/local/lib/python3.10/dist-packages/llama_index/program/openai/base.py\", line 64, in _parse_tool_calls\n",
            "    output = output_cls.parse_raw(function_call.arguments)\n",
            "  File \"/usr/local/lib/python3.10/dist-packages/pydantic/v1/main.py\", line 549, in parse_raw\n",
            "    return cls.parse_obj(obj)\n",
            "  File \"/usr/local/lib/python3.10/dist-packages/pydantic/v1/main.py\", line 526, in parse_obj\n",
            "    return cls(**obj)\n",
            "  File \"/usr/local/lib/python3.10/dist-packages/pydantic/v1/main.py\", line 341, in __init__\n",
            "    raise validation_error\n",
            "pydantic.v1.error_wrappers.ValidationError: 1 validation error for TableOutput\n",
            "columns\n",
            "  field required (type=value_error.missing)\n",
            " 59%|█████▉    | 55/93 [00:19<00:09,  4.19it/s]WARNING:llama_index.core.response_synthesizers.refine:Validation error on structured response: 1 validation error for TableOutput\n",
            "columns\n",
            "  field required (type=value_error.missing)\n",
            "Traceback (most recent call last):\n",
            "  File \"/usr/local/lib/python3.10/dist-packages/llama_index/core/response_synthesizers/refine.py\", line 477, in _agive_response_single\n",
            "    structured_response = await program.acall(\n",
            "  File \"/usr/local/lib/python3.10/dist-packages/llama_index/core/response_synthesizers/refine.py\", line 92, in acall\n",
            "    answer = await self._llm.astructured_predict(\n",
            "  File \"/usr/local/lib/python3.10/dist-packages/llama_index/core/instrumentation/dispatcher.py\", line 162, in async_wrapper\n",
            "    self.span_drop(id_=id_, bound_args=bound_args, instance=instance, err=e)\n",
            "  File \"/usr/local/lib/python3.10/dist-packages/llama_index/core/instrumentation/dispatcher.py\", line 98, in span_drop\n",
            "    h.span_drop(\n",
            "  File \"/usr/local/lib/python3.10/dist-packages/llama_index/core/instrumentation/span_handlers/base.py\", line 77, in span_drop\n",
            "    span = self.prepare_to_drop_span(\n",
            "  File \"/usr/local/lib/python3.10/dist-packages/llama_index/core/instrumentation/span_handlers/null.py\", line 71, in prepare_to_drop_span\n",
            "    raise err\n",
            "  File \"/usr/local/lib/python3.10/dist-packages/llama_index/core/instrumentation/dispatcher.py\", line 160, in async_wrapper\n",
            "    result = await func(*args, **kwargs)\n",
            "  File \"/usr/local/lib/python3.10/dist-packages/llama_index/core/llms/llm.py\", line 379, in astructured_predict\n",
            "    return await program.acall(**prompt_args)\n",
            "  File \"/usr/local/lib/python3.10/dist-packages/llama_index/program/openai/base.py\", line 220, in acall\n",
            "    return _parse_tool_calls(\n",
            "  File \"/usr/local/lib/python3.10/dist-packages/llama_index/program/openai/base.py\", line 64, in _parse_tool_calls\n",
            "    output = output_cls.parse_raw(function_call.arguments)\n",
            "  File \"/usr/local/lib/python3.10/dist-packages/pydantic/v1/main.py\", line 549, in parse_raw\n",
            "    return cls.parse_obj(obj)\n",
            "  File \"/usr/local/lib/python3.10/dist-packages/pydantic/v1/main.py\", line 526, in parse_obj\n",
            "    return cls(**obj)\n",
            "  File \"/usr/local/lib/python3.10/dist-packages/pydantic/v1/main.py\", line 341, in __init__\n",
            "    raise validation_error\n",
            "pydantic.v1.error_wrappers.ValidationError: 1 validation error for TableOutput\n",
            "columns\n",
            "  field required (type=value_error.missing)\n",
            "WARNING:llama_index.core.response_synthesizers.refine:Validation error on structured response: 1 validation error for TableOutput\n",
            "columns\n",
            "  field required (type=value_error.missing)\n",
            "Traceback (most recent call last):\n",
            "  File \"/usr/local/lib/python3.10/dist-packages/llama_index/core/response_synthesizers/refine.py\", line 477, in _agive_response_single\n",
            "    structured_response = await program.acall(\n",
            "  File \"/usr/local/lib/python3.10/dist-packages/llama_index/core/response_synthesizers/refine.py\", line 92, in acall\n",
            "    answer = await self._llm.astructured_predict(\n",
            "  File \"/usr/local/lib/python3.10/dist-packages/llama_index/core/instrumentation/dispatcher.py\", line 162, in async_wrapper\n",
            "    self.span_drop(id_=id_, bound_args=bound_args, instance=instance, err=e)\n",
            "  File \"/usr/local/lib/python3.10/dist-packages/llama_index/core/instrumentation/dispatcher.py\", line 98, in span_drop\n",
            "    h.span_drop(\n",
            "  File \"/usr/local/lib/python3.10/dist-packages/llama_index/core/instrumentation/span_handlers/base.py\", line 77, in span_drop\n",
            "    span = self.prepare_to_drop_span(\n",
            "  File \"/usr/local/lib/python3.10/dist-packages/llama_index/core/instrumentation/span_handlers/null.py\", line 71, in prepare_to_drop_span\n",
            "    raise err\n",
            "  File \"/usr/local/lib/python3.10/dist-packages/llama_index/core/instrumentation/dispatcher.py\", line 160, in async_wrapper\n",
            "    result = await func(*args, **kwargs)\n",
            "  File \"/usr/local/lib/python3.10/dist-packages/llama_index/core/llms/llm.py\", line 379, in astructured_predict\n",
            "    return await program.acall(**prompt_args)\n",
            "  File \"/usr/local/lib/python3.10/dist-packages/llama_index/program/openai/base.py\", line 220, in acall\n",
            "    return _parse_tool_calls(\n",
            "  File \"/usr/local/lib/python3.10/dist-packages/llama_index/program/openai/base.py\", line 64, in _parse_tool_calls\n",
            "    output = output_cls.parse_raw(function_call.arguments)\n",
            "  File \"/usr/local/lib/python3.10/dist-packages/pydantic/v1/main.py\", line 549, in parse_raw\n",
            "    return cls.parse_obj(obj)\n",
            "  File \"/usr/local/lib/python3.10/dist-packages/pydantic/v1/main.py\", line 526, in parse_obj\n",
            "    return cls(**obj)\n",
            "  File \"/usr/local/lib/python3.10/dist-packages/pydantic/v1/main.py\", line 341, in __init__\n",
            "    raise validation_error\n",
            "pydantic.v1.error_wrappers.ValidationError: 1 validation error for TableOutput\n",
            "columns\n",
            "  field required (type=value_error.missing)\n",
            " 69%|██████▉   | 64/93 [00:22<00:09,  3.20it/s]WARNING:llama_index.core.response_synthesizers.refine:Validation error on structured response: 1 validation error for TableOutput\n",
            "columns\n",
            "  field required (type=value_error.missing)\n",
            "Traceback (most recent call last):\n",
            "  File \"/usr/local/lib/python3.10/dist-packages/llama_index/core/response_synthesizers/refine.py\", line 477, in _agive_response_single\n",
            "    structured_response = await program.acall(\n",
            "  File \"/usr/local/lib/python3.10/dist-packages/llama_index/core/response_synthesizers/refine.py\", line 92, in acall\n",
            "    answer = await self._llm.astructured_predict(\n",
            "  File \"/usr/local/lib/python3.10/dist-packages/llama_index/core/instrumentation/dispatcher.py\", line 162, in async_wrapper\n",
            "    self.span_drop(id_=id_, bound_args=bound_args, instance=instance, err=e)\n",
            "  File \"/usr/local/lib/python3.10/dist-packages/llama_index/core/instrumentation/dispatcher.py\", line 98, in span_drop\n",
            "    h.span_drop(\n",
            "  File \"/usr/local/lib/python3.10/dist-packages/llama_index/core/instrumentation/span_handlers/base.py\", line 77, in span_drop\n",
            "    span = self.prepare_to_drop_span(\n",
            "  File \"/usr/local/lib/python3.10/dist-packages/llama_index/core/instrumentation/span_handlers/null.py\", line 71, in prepare_to_drop_span\n",
            "    raise err\n",
            "  File \"/usr/local/lib/python3.10/dist-packages/llama_index/core/instrumentation/dispatcher.py\", line 160, in async_wrapper\n",
            "    result = await func(*args, **kwargs)\n",
            "  File \"/usr/local/lib/python3.10/dist-packages/llama_index/core/llms/llm.py\", line 379, in astructured_predict\n",
            "    return await program.acall(**prompt_args)\n",
            "  File \"/usr/local/lib/python3.10/dist-packages/llama_index/program/openai/base.py\", line 220, in acall\n",
            "    return _parse_tool_calls(\n",
            "  File \"/usr/local/lib/python3.10/dist-packages/llama_index/program/openai/base.py\", line 64, in _parse_tool_calls\n",
            "    output = output_cls.parse_raw(function_call.arguments)\n",
            "  File \"/usr/local/lib/python3.10/dist-packages/pydantic/v1/main.py\", line 549, in parse_raw\n",
            "    return cls.parse_obj(obj)\n",
            "  File \"/usr/local/lib/python3.10/dist-packages/pydantic/v1/main.py\", line 526, in parse_obj\n",
            "    return cls(**obj)\n",
            "  File \"/usr/local/lib/python3.10/dist-packages/pydantic/v1/main.py\", line 341, in __init__\n",
            "    raise validation_error\n",
            "pydantic.v1.error_wrappers.ValidationError: 1 validation error for TableOutput\n",
            "columns\n",
            "  field required (type=value_error.missing)\n",
            " 73%|███████▎  | 68/93 [00:23<00:07,  3.18it/s]WARNING:llama_index.core.response_synthesizers.refine:Validation error on structured response: 1 validation error for TableOutput\n",
            "columns\n",
            "  field required (type=value_error.missing)\n",
            "Traceback (most recent call last):\n",
            "  File \"/usr/local/lib/python3.10/dist-packages/llama_index/core/response_synthesizers/refine.py\", line 477, in _agive_response_single\n",
            "    structured_response = await program.acall(\n",
            "  File \"/usr/local/lib/python3.10/dist-packages/llama_index/core/response_synthesizers/refine.py\", line 92, in acall\n",
            "    answer = await self._llm.astructured_predict(\n",
            "  File \"/usr/local/lib/python3.10/dist-packages/llama_index/core/instrumentation/dispatcher.py\", line 162, in async_wrapper\n",
            "    self.span_drop(id_=id_, bound_args=bound_args, instance=instance, err=e)\n",
            "  File \"/usr/local/lib/python3.10/dist-packages/llama_index/core/instrumentation/dispatcher.py\", line 98, in span_drop\n",
            "    h.span_drop(\n",
            "  File \"/usr/local/lib/python3.10/dist-packages/llama_index/core/instrumentation/span_handlers/base.py\", line 77, in span_drop\n",
            "    span = self.prepare_to_drop_span(\n",
            "  File \"/usr/local/lib/python3.10/dist-packages/llama_index/core/instrumentation/span_handlers/null.py\", line 71, in prepare_to_drop_span\n",
            "    raise err\n",
            "  File \"/usr/local/lib/python3.10/dist-packages/llama_index/core/instrumentation/dispatcher.py\", line 160, in async_wrapper\n",
            "    result = await func(*args, **kwargs)\n",
            "  File \"/usr/local/lib/python3.10/dist-packages/llama_index/core/llms/llm.py\", line 379, in astructured_predict\n",
            "    return await program.acall(**prompt_args)\n",
            "  File \"/usr/local/lib/python3.10/dist-packages/llama_index/program/openai/base.py\", line 220, in acall\n",
            "    return _parse_tool_calls(\n",
            "  File \"/usr/local/lib/python3.10/dist-packages/llama_index/program/openai/base.py\", line 64, in _parse_tool_calls\n",
            "    output = output_cls.parse_raw(function_call.arguments)\n",
            "  File \"/usr/local/lib/python3.10/dist-packages/pydantic/v1/main.py\", line 549, in parse_raw\n",
            "    return cls.parse_obj(obj)\n",
            "  File \"/usr/local/lib/python3.10/dist-packages/pydantic/v1/main.py\", line 526, in parse_obj\n",
            "    return cls(**obj)\n",
            "  File \"/usr/local/lib/python3.10/dist-packages/pydantic/v1/main.py\", line 341, in __init__\n",
            "    raise validation_error\n",
            "pydantic.v1.error_wrappers.ValidationError: 1 validation error for TableOutput\n",
            "columns\n",
            "  field required (type=value_error.missing)\n",
            " 82%|████████▏ | 76/93 [00:26<00:04,  3.98it/s]WARNING:llama_index.core.response_synthesizers.refine:Validation error on structured response: 1 validation error for TableOutput\n",
            "columns\n",
            "  field required (type=value_error.missing)\n",
            "Traceback (most recent call last):\n",
            "  File \"/usr/local/lib/python3.10/dist-packages/llama_index/core/response_synthesizers/refine.py\", line 477, in _agive_response_single\n",
            "    structured_response = await program.acall(\n",
            "  File \"/usr/local/lib/python3.10/dist-packages/llama_index/core/response_synthesizers/refine.py\", line 92, in acall\n",
            "    answer = await self._llm.astructured_predict(\n",
            "  File \"/usr/local/lib/python3.10/dist-packages/llama_index/core/instrumentation/dispatcher.py\", line 162, in async_wrapper\n",
            "    self.span_drop(id_=id_, bound_args=bound_args, instance=instance, err=e)\n",
            "  File \"/usr/local/lib/python3.10/dist-packages/llama_index/core/instrumentation/dispatcher.py\", line 98, in span_drop\n",
            "    h.span_drop(\n",
            "  File \"/usr/local/lib/python3.10/dist-packages/llama_index/core/instrumentation/span_handlers/base.py\", line 77, in span_drop\n",
            "    span = self.prepare_to_drop_span(\n",
            "  File \"/usr/local/lib/python3.10/dist-packages/llama_index/core/instrumentation/span_handlers/null.py\", line 71, in prepare_to_drop_span\n",
            "    raise err\n",
            "  File \"/usr/local/lib/python3.10/dist-packages/llama_index/core/instrumentation/dispatcher.py\", line 160, in async_wrapper\n",
            "    result = await func(*args, **kwargs)\n",
            "  File \"/usr/local/lib/python3.10/dist-packages/llama_index/core/llms/llm.py\", line 379, in astructured_predict\n",
            "    return await program.acall(**prompt_args)\n",
            "  File \"/usr/local/lib/python3.10/dist-packages/llama_index/program/openai/base.py\", line 220, in acall\n",
            "    return _parse_tool_calls(\n",
            "  File \"/usr/local/lib/python3.10/dist-packages/llama_index/program/openai/base.py\", line 64, in _parse_tool_calls\n",
            "    output = output_cls.parse_raw(function_call.arguments)\n",
            "  File \"/usr/local/lib/python3.10/dist-packages/pydantic/v1/main.py\", line 549, in parse_raw\n",
            "    return cls.parse_obj(obj)\n",
            "  File \"/usr/local/lib/python3.10/dist-packages/pydantic/v1/main.py\", line 526, in parse_obj\n",
            "    return cls(**obj)\n",
            "  File \"/usr/local/lib/python3.10/dist-packages/pydantic/v1/main.py\", line 341, in __init__\n",
            "    raise validation_error\n",
            "pydantic.v1.error_wrappers.ValidationError: 1 validation error for TableOutput\n",
            "columns\n",
            "  field required (type=value_error.missing)\n",
            "WARNING:llama_index.core.response_synthesizers.refine:Validation error on structured response: 1 validation error for TableOutput\n",
            "columns\n",
            "  field required (type=value_error.missing)\n",
            "Traceback (most recent call last):\n",
            "  File \"/usr/local/lib/python3.10/dist-packages/llama_index/core/response_synthesizers/refine.py\", line 477, in _agive_response_single\n",
            "    structured_response = await program.acall(\n",
            "  File \"/usr/local/lib/python3.10/dist-packages/llama_index/core/response_synthesizers/refine.py\", line 92, in acall\n",
            "    answer = await self._llm.astructured_predict(\n",
            "  File \"/usr/local/lib/python3.10/dist-packages/llama_index/core/instrumentation/dispatcher.py\", line 162, in async_wrapper\n",
            "    self.span_drop(id_=id_, bound_args=bound_args, instance=instance, err=e)\n",
            "  File \"/usr/local/lib/python3.10/dist-packages/llama_index/core/instrumentation/dispatcher.py\", line 98, in span_drop\n",
            "    h.span_drop(\n",
            "  File \"/usr/local/lib/python3.10/dist-packages/llama_index/core/instrumentation/span_handlers/base.py\", line 77, in span_drop\n",
            "    span = self.prepare_to_drop_span(\n",
            "  File \"/usr/local/lib/python3.10/dist-packages/llama_index/core/instrumentation/span_handlers/null.py\", line 71, in prepare_to_drop_span\n",
            "    raise err\n",
            "  File \"/usr/local/lib/python3.10/dist-packages/llama_index/core/instrumentation/dispatcher.py\", line 160, in async_wrapper\n",
            "    result = await func(*args, **kwargs)\n",
            "  File \"/usr/local/lib/python3.10/dist-packages/llama_index/core/llms/llm.py\", line 379, in astructured_predict\n",
            "    return await program.acall(**prompt_args)\n",
            "  File \"/usr/local/lib/python3.10/dist-packages/llama_index/program/openai/base.py\", line 220, in acall\n",
            "    return _parse_tool_calls(\n",
            "  File \"/usr/local/lib/python3.10/dist-packages/llama_index/program/openai/base.py\", line 64, in _parse_tool_calls\n",
            "    output = output_cls.parse_raw(function_call.arguments)\n",
            "  File \"/usr/local/lib/python3.10/dist-packages/pydantic/v1/main.py\", line 549, in parse_raw\n",
            "    return cls.parse_obj(obj)\n",
            "  File \"/usr/local/lib/python3.10/dist-packages/pydantic/v1/main.py\", line 526, in parse_obj\n",
            "    return cls(**obj)\n",
            "  File \"/usr/local/lib/python3.10/dist-packages/pydantic/v1/main.py\", line 341, in __init__\n",
            "    raise validation_error\n",
            "pydantic.v1.error_wrappers.ValidationError: 1 validation error for TableOutput\n",
            "columns\n",
            "  field required (type=value_error.missing)\n",
            " 95%|█████████▍| 88/93 [00:29<00:01,  3.71it/s]WARNING:llama_index.core.response_synthesizers.refine:Validation error on structured response: 1 validation error for TableOutput\n",
            "columns\n",
            "  field required (type=value_error.missing)\n",
            "Traceback (most recent call last):\n",
            "  File \"/usr/local/lib/python3.10/dist-packages/llama_index/core/response_synthesizers/refine.py\", line 477, in _agive_response_single\n",
            "    structured_response = await program.acall(\n",
            "  File \"/usr/local/lib/python3.10/dist-packages/llama_index/core/response_synthesizers/refine.py\", line 92, in acall\n",
            "    answer = await self._llm.astructured_predict(\n",
            "  File \"/usr/local/lib/python3.10/dist-packages/llama_index/core/instrumentation/dispatcher.py\", line 162, in async_wrapper\n",
            "    self.span_drop(id_=id_, bound_args=bound_args, instance=instance, err=e)\n",
            "  File \"/usr/local/lib/python3.10/dist-packages/llama_index/core/instrumentation/dispatcher.py\", line 98, in span_drop\n",
            "    h.span_drop(\n",
            "  File \"/usr/local/lib/python3.10/dist-packages/llama_index/core/instrumentation/span_handlers/base.py\", line 77, in span_drop\n",
            "    span = self.prepare_to_drop_span(\n",
            "  File \"/usr/local/lib/python3.10/dist-packages/llama_index/core/instrumentation/span_handlers/null.py\", line 71, in prepare_to_drop_span\n",
            "    raise err\n",
            "  File \"/usr/local/lib/python3.10/dist-packages/llama_index/core/instrumentation/dispatcher.py\", line 160, in async_wrapper\n",
            "    result = await func(*args, **kwargs)\n",
            "  File \"/usr/local/lib/python3.10/dist-packages/llama_index/core/llms/llm.py\", line 379, in astructured_predict\n",
            "    return await program.acall(**prompt_args)\n",
            "  File \"/usr/local/lib/python3.10/dist-packages/llama_index/program/openai/base.py\", line 220, in acall\n",
            "    return _parse_tool_calls(\n",
            "  File \"/usr/local/lib/python3.10/dist-packages/llama_index/program/openai/base.py\", line 64, in _parse_tool_calls\n",
            "    output = output_cls.parse_raw(function_call.arguments)\n",
            "  File \"/usr/local/lib/python3.10/dist-packages/pydantic/v1/main.py\", line 549, in parse_raw\n",
            "    return cls.parse_obj(obj)\n",
            "  File \"/usr/local/lib/python3.10/dist-packages/pydantic/v1/main.py\", line 526, in parse_obj\n",
            "    return cls(**obj)\n",
            "  File \"/usr/local/lib/python3.10/dist-packages/pydantic/v1/main.py\", line 341, in __init__\n",
            "    raise validation_error\n",
            "pydantic.v1.error_wrappers.ValidationError: 1 validation error for TableOutput\n",
            "columns\n",
            "  field required (type=value_error.missing)\n",
            "WARNING:llama_index.core.response_synthesizers.refine:Validation error on structured response: 1 validation error for TableOutput\n",
            "columns\n",
            "  field required (type=value_error.missing)\n",
            "Traceback (most recent call last):\n",
            "  File \"/usr/local/lib/python3.10/dist-packages/llama_index/core/response_synthesizers/refine.py\", line 477, in _agive_response_single\n",
            "    structured_response = await program.acall(\n",
            "  File \"/usr/local/lib/python3.10/dist-packages/llama_index/core/response_synthesizers/refine.py\", line 92, in acall\n",
            "    answer = await self._llm.astructured_predict(\n",
            "  File \"/usr/local/lib/python3.10/dist-packages/llama_index/core/instrumentation/dispatcher.py\", line 162, in async_wrapper\n",
            "    self.span_drop(id_=id_, bound_args=bound_args, instance=instance, err=e)\n",
            "  File \"/usr/local/lib/python3.10/dist-packages/llama_index/core/instrumentation/dispatcher.py\", line 98, in span_drop\n",
            "    h.span_drop(\n",
            "  File \"/usr/local/lib/python3.10/dist-packages/llama_index/core/instrumentation/span_handlers/base.py\", line 77, in span_drop\n",
            "    span = self.prepare_to_drop_span(\n",
            "  File \"/usr/local/lib/python3.10/dist-packages/llama_index/core/instrumentation/span_handlers/null.py\", line 71, in prepare_to_drop_span\n",
            "    raise err\n",
            "  File \"/usr/local/lib/python3.10/dist-packages/llama_index/core/instrumentation/dispatcher.py\", line 160, in async_wrapper\n",
            "    result = await func(*args, **kwargs)\n",
            "  File \"/usr/local/lib/python3.10/dist-packages/llama_index/core/llms/llm.py\", line 379, in astructured_predict\n",
            "    return await program.acall(**prompt_args)\n",
            "  File \"/usr/local/lib/python3.10/dist-packages/llama_index/program/openai/base.py\", line 220, in acall\n",
            "    return _parse_tool_calls(\n",
            "  File \"/usr/local/lib/python3.10/dist-packages/llama_index/program/openai/base.py\", line 64, in _parse_tool_calls\n",
            "    output = output_cls.parse_raw(function_call.arguments)\n",
            "  File \"/usr/local/lib/python3.10/dist-packages/pydantic/v1/main.py\", line 549, in parse_raw\n",
            "    return cls.parse_obj(obj)\n",
            "  File \"/usr/local/lib/python3.10/dist-packages/pydantic/v1/main.py\", line 526, in parse_obj\n",
            "    return cls(**obj)\n",
            "  File \"/usr/local/lib/python3.10/dist-packages/pydantic/v1/main.py\", line 341, in __init__\n",
            "    raise validation_error\n",
            "pydantic.v1.error_wrappers.ValidationError: 1 validation error for TableOutput\n",
            "columns\n",
            "  field required (type=value_error.missing)\n",
            "100%|██████████| 93/93 [00:33<00:00,  2.77it/s]\n"
          ]
        }
      ],
      "source": [
        "nodes = node_parser.get_nodes_from_documents(documents)"
      ]
    },
    {
      "cell_type": "code",
      "execution_count": null,
      "metadata": {
        "tags": [],
        "id": "s4mfCKnRMhD7"
      },
      "outputs": [],
      "source": [
        "base_nodes, objects = node_parser.get_nodes_and_objects(nodes)\n",
        "\n",
        "recursive_index = VectorStoreIndex(nodes=base_nodes+objects)"
      ]
    },
    {
      "cell_type": "code",
      "execution_count": null,
      "metadata": {
        "tags": [],
        "id": "uhTd83uHMhD7"
      },
      "outputs": [],
      "source": [
        "query_engine = recursive_index.as_query_engine(similarity_top_k=25)"
      ]
    },
    {
      "cell_type": "markdown",
      "metadata": {
        "id": "0YBgZI2SMhD7"
      },
      "source": [
        "### Querying the model for coverage"
      ]
    },
    {
      "cell_type": "code",
      "execution_count": null,
      "metadata": {
        "tags": [],
        "colab": {
          "base_uri": "https://localhost:8080/"
        },
        "id": "Q_8qqAmIMhD7",
        "outputId": "554cf245-2e5d-4d26-fdaa-64effcd1086e"
      },
      "outputs": [
        {
          "output_type": "stream",
          "name": "stdout",
          "text": [
            "You are covered for the amount mentioned in the certificate of insurance for every block of hours of delay, up to a maximum of 24 hours of delay.\n"
          ]
        }
      ],
      "source": [
        "query_1 = \"My trip was delayed and I paid 45, how much am I covered for?\"\n",
        "\n",
        "response_1 = query_engine.query(query_1)\n",
        "print(str(response_1))"
      ]
    },
    {
      "cell_type": "markdown",
      "metadata": {
        "id": "ZM50KN4LMhD7"
      },
      "source": [
        "The information is split across the document which leads to retrieval issues. Let's try some parsing instructions to improve our result."
      ]
    },
    {
      "cell_type": "code",
      "execution_count": null,
      "metadata": {
        "tags": [],
        "colab": {
          "base_uri": "https://localhost:8080/"
        },
        "id": "9x-huZ-AMhD7",
        "outputId": "17d0b854-ca13-4d81-da02-373bc6d6941c"
      },
      "outputs": [
        {
          "output_type": "stream",
          "name": "stdout",
          "text": [
            "Started parsing the file under job_id 5d9e4d87-d27d-4bb0-b4c9-54116a145594\n",
            "......"
          ]
        }
      ],
      "source": [
        "documents_with_instruction = LlamaParse(result_type=\"markdown\", parsing_instruction=\"\"\"\n",
        "This document is an insurance policy.\n",
        "When a benefit/coverage/exlusion is described in the document append a line of the following benefits string format (where coverage could be an exclusion).\n",
        "\n",
        "For {nameofrisk} and in this condition {whenDoesThecoverageApply} the coverage is {coverageDescription}.\n",
        "\n",
        "If the document contains a benefits TABLE that describe coverage amounts, do not ouput it as a table, but instead as a list of benefits strings.\n",
        "\n",
        "\"\"\").load_data(\"./policy.pdf\")"
      ]
    },
    {
      "cell_type": "markdown",
      "metadata": {
        "id": "ol8QSHdyMhD7"
      },
      "source": [
        "Let see how the 2 parsing compare (change target page to explore)"
      ]
    },
    {
      "cell_type": "code",
      "execution_count": null,
      "metadata": {
        "tags": [],
        "colab": {
          "base_uri": "https://localhost:8080/"
        },
        "id": "xyk0UKy9MhD7",
        "outputId": "cd7010d4-dcd2-441c-c1d6-ff4447d3d6bb"
      },
      "outputs": [
        {
          "output_type": "stream",
          "name": "stdout",
          "text": [
            "## Inpatient treatment\n",
            "\n",
            "Claim Form (filled and signed by pe Insured)\n",
            "\n",
            "## Hospital Daily Cash\n",
            "\n",
            "Release of Medical information Form (filled and signed by pe Insured)\n",
            "\n",
            "## Waiver of Deductible\n",
            "\n",
            "Original papological and diagnostic reports, discharge summary indoor case papers (if any) and prescriptions issued by pe treating Medical practitioner or Network Provider\n",
            "\n",
            "## Optional Co-payment\n",
            "\n",
            "## Adventure Sports Cover\n",
            "\n",
            "## Home to Home Cover\n",
            "\n",
            "Passport and Visa copy wip Entry Stamp of Country of Visit and exit Stamp from India\n",
            "\n",
            "## Extension to in-patient care\n",
            "\n",
            "FIR report of police (if applicable)\n",
            "\n",
            "## Out-patient treatment\n",
            "\n",
            "## Cancer Screening & Mammographic Examination\n",
            "\n",
            "Original bills and receipts for\n",
            "1. Charges paid towards Hospital accommodation, nursing facilities, and oper medical services rendered\n",
            "2. Fees paid to pe Medical Practitioner and for special nursing charges\n",
            "3. Charges incurred towards any and all test and / or examinations rendered in connection wip pe treatment\n",
            "4. Charges incurred towards medicines or drugs purchased from a registered pharmacy oper pan pe Network provider duly supported by pe prescriptions of pe Medical Practitioner attending to pe Insured Person\n",
            "5. Any oper document as required by pe Company to assist pe Claim\n",
            "\n",
            "## New Born baby Cover\n",
            "\n",
            "## Maternity\n",
            "\n",
            "## Complete pre-existing disease cover\n",
            "\n",
            "## Medical sum insured replenishment in case of hospitalization due to accident\n",
            "\n",
            "## Waiver of sublimit for insured above 60 years of age\n",
            "\n",
            "## Psychiatric Counseling\n",
            "\n",
            "## Physiotherapy\n",
            "\n",
            "## Terrorism cover\n",
            "\n",
            "## Medical tele-consultation\n",
            "\n",
            "## Medical evacuation\n",
            "\n",
            "Medical reports and transportation details issued by pe evacuation agency, prescriptions and medical report by pe attending Medical Practitioner furnishing pe name of pe Insured Person and details of treatment rendered along wip pe statement confirming pe necessity of evacuation\n",
            "Documentary proof for expenses incurred towards pe Medical Evacuation\n",
            "\n",
            "## Compassionate visit\n",
            "\n",
            "A certificate from pe Medical Practitioner recommending pe presence in pe form of special assistance to be rendered by an additional member during pe entire period of hospitalization. The certificate shall also specify pe minimum period in which person is admitted in pe hospital\n",
            "Discharge summary of pe Hospital furnishing details including pe date of admission and date of discharge\n",
            "Stamped boarding pass wip invoice used for pe travel by pe Immediate Family Member\n",
            "Copy passport of Immediate Family Member wip entry and exit stamp\n",
            "\n",
            "## Escort of Minor Child\n",
            "\n",
            "A certificate from pe Medical Practitioner specifying pe minimum period of Hospitalization\n",
            "Discharge summary of pe Hospital furnishing details including pe date of admission and date of discharge\n",
            "Stamped Boarding pass used for pe return travel of pe child to pe Country of Residence\n",
            "Stamped Boarding pass of pe attendant from pe Country of Residence to pe place of hospitalization (if attendant is necessary)\n",
            "Copy of passport of pe child wip entry and exit stamp\n",
            "\n",
            "## Upgradation to Business Class\n",
            "\n",
            "A certificate from pe Medical Practitioner specifying pe minimum period of Hospitalization\n",
            "Discharge summary of pe Hospital furnishing pe details including pe date of admission and date of discharge\n",
            "\n",
            "Product Name: Travel infinity | Product UIN: NBHTGBP22011V012223\n",
            "\n",
            "\n",
            "=========================================================\n",
            "\n",
            "\n",
            "# Insurance Policy\n",
            "\n",
            "## Benefits:\n",
            "\n",
            "- For Inpatient treatment and in this condition when Does The coverage Apply the coverage is Claim Form (filled and signed by the Insured).\n",
            "- For Hospital Daily Cash and in this condition when Does The coverage Apply the coverage is Release of Medical information Form (filled and signed by the Insured).\n",
            "- For Waiver of Deductible and in this condition when Does The coverage Apply the coverage is Original pathological and diagnostic reports, discharge summary indoor case papers (if any) and prescriptions issued by the treating Medical practitioner or Network Provider.\n",
            "- For Optional Co-payment and in this condition when Does The coverage Apply the coverage is Passport and Visa copy with Entry Stamp of Country of Visit and exit Stamp from India.\n",
            "- For Adventure Sports Cover and in this condition when Does The coverage Apply the coverage is FIR report of police (if applicable).\n",
            "- For Out-patient treatment and in this condition when Does The coverage Apply the coverage is not specified.\n",
            "- For Cancer Screening & Mammographic Examination and in this condition when Does The coverage Apply the coverage is Original bills and receipts for: 1. Charges paid towards Hospital accommodation, nursing facilities, and other medical services rendered. 2. Fees paid to the Medical Practitioner and for special nursing charges. 3. Charges incurred towards any and all test and / or examinations rendered in connection with the treatment. 4. Charges incurred towards medicines or drugs purchased from a registered pharmacy other than the Network provider duly supported by the prescriptions of the Medical Practitioner attending to the Insured Person. 5. Any other document as required by the Company to assist the Claim.\n",
            "- For Medical evacuation and in this condition when Does The coverage Apply the coverage is Medical reports and transportation details issued by the evacuation agency, prescriptions and medical report by the attending Medical Practitioner furnishing the name of the Insured Person and details of treatment rendered along with the statement confirm the necessity of evacuation. Documentary proof for expenses incurred towards the Medical Evacuation.\n",
            "- For Compassionate visit and in this condition when Does The coverage Apply the coverage is A certificate from the Medical Practitioner recommending the presence in the form of special assistance to be rendered by an additional member during the entire period of hospitalization. The certificate shall also specify the minimum period in which person is admitted in the hospital. Discharge summary of the Hospital furnishing details including the date of admission and date of discharge. Stamped boarding pass with invoice used for the travel by the Immediate Family Member. Copy passport of Immediate Family Member with entry and exit stamp.\n",
            "- For Escort of Minor Child and in this condition when Does The coverage Apply the coverage is A certificate from the Medical Practitioner specifying the minimum period of Hospitalization. Discharge summary of the Hospital furnishing details including the date of admission and date of discharge. Stamped Boarding pass used for the return travel of the child to the Country of Residence. Stamped Boding pass of the attendant from the Country of Residence to the place of hospitalization (if attendant is necessary). Copy of passport of the child with entry and exit stamp.\n",
            "- For Upgradation to Business Class and in this condition when Does The coverage Apply the coverage is A certificate from the Medical Practitioner specifying the minimum period of Hospitalization. Discharge summary of the Hospital furnishing the details including the date of admission and date of discharge.\n"
          ]
        }
      ],
      "source": [
        "target_page = 45\n",
        "pages_vanilla = documents[0].text.split(\"\\n---\\n\")\n",
        "pages_with_instructions = documents_with_instruction[0].text.split(\"\\n---\\n\")\n",
        "\n",
        "print(pages_vanilla[target_page])\n",
        "print(\"\\n\\n=========================================================\\n\\n\")\n",
        "print(pages_with_instructions[target_page])"
      ]
    },
    {
      "cell_type": "code",
      "execution_count": null,
      "metadata": {
        "tags": [],
        "colab": {
          "base_uri": "https://localhost:8080/"
        },
        "id": "EB5ywKkAMhD7",
        "outputId": "82db6f04-46fe-466b-e0c5-7adddd1f25f6"
      },
      "outputs": [
        {
          "output_type": "stream",
          "name": "stderr",
          "text": [
            "0it [00:00, ?it/s]\n",
            "0it [00:00, ?it/s]\n"
          ]
        }
      ],
      "source": [
        "node_parser_instruction = MarkdownElementNodeParser(llm=OpenAI(model=\"gpt-3.5-turbo-0125\"), num_workers=8)\n",
        "nodes_instruction = node_parser.get_nodes_from_documents(documents_with_instruction)\n",
        "base_nodes_instruction, objects_instruction = node_parser_instruction.get_nodes_and_objects(nodes_instruction)\n",
        "\n",
        "recursive_index_instruction = VectorStoreIndex(nodes=base_nodes_instruction+objects_instruction)\n",
        "query_engine_instruction = recursive_index_instruction.as_query_engine(similarity_top_k=25)"
      ]
    },
    {
      "cell_type": "markdown",
      "metadata": {
        "id": "ul56Z4ibMhD7"
      },
      "source": [
        "## Comparing Instruction-Augmented Parsing vs. Vanilla Parsing\n",
        "\n",
        "When we parse the document with natural language instructions to add context on insurance coverage, we are able to correctly answer a wide range of queries in our RAG pipeline. In contrast, a RAG pipeline built with the vanilla method is not able to answer these queries."
      ]
    },
    {
      "cell_type": "code",
      "execution_count": null,
      "metadata": {
        "tags": [],
        "colab": {
          "base_uri": "https://localhost:8080/"
        },
        "id": "A5Z2qt3fMhD7",
        "outputId": "f7dd8d5e-fb9f-4dc3-821f-5651bf980c0e"
      },
      "outputs": [
        {
          "output_type": "stream",
          "name": "stdout",
          "text": [
            "Vanilla:\n",
            "You are covered for the amount mentioned in the certificate of insurance for every block of hours of delay, up to a maximum of 24 hours of delay.\n",
            "With instructions:\n",
            "You are covered for the delay amount you paid, which is 45.\n"
          ]
        }
      ],
      "source": [
        "query_1 = \"My trip was delayed and I paid 45, how much am I covered for?\"\n",
        "\n",
        "response_1 = query_engine.query(query_1)\n",
        "print(\"Vanilla:\")\n",
        "print(response_1)\n",
        "\n",
        "print(\"With instructions:\")\n",
        "response_1_i = query_engine_instruction.query(query_1)\n",
        "print(response_1_i)\n"
      ]
    },
    {
      "cell_type": "markdown",
      "metadata": {
        "id": "oAXkxeaqMhD7"
      },
      "source": [
        "Looking at the policy it says in list I that one expense not covered is Baby food"
      ]
    },
    {
      "cell_type": "code",
      "execution_count": null,
      "metadata": {
        "tags": [],
        "colab": {
          "base_uri": "https://localhost:8080/"
        },
        "id": "M2DzSDsuMhD7",
        "outputId": "6fd6d90b-2f3d-4d1e-9ef1-70d836c051be"
      },
      "outputs": [
        {
          "output_type": "stream",
          "name": "stdout",
          "text": [
            "Vanilla:\n",
            "Baby food is not explicitly mentioned as a covered benefit in the provided context information. The policy primarily focuses on medical treatment, emergency services, travel-related incidents, and specific coverage scenarios. It is advisable to refer to the policy document or contact the insurance provider directly to inquire about coverage for baby food or related expenses.\n",
            "With instructions:\n",
            "Baby food is not covered under the insurance policy.\n"
          ]
        }
      ],
      "source": [
        "query_2 = \"I just had a baby, is baby food covered?\"\n",
        "\n",
        "response_2 = query_engine.query(query_2)\n",
        "print(\"Vanilla:\")\n",
        "print(response_2)\n",
        "\n",
        "print(\"With instructions:\")\n",
        "response_2_i = query_engine_instruction.query(query_2)\n",
        "print(response_2_i)"
      ]
    },
    {
      "cell_type": "code",
      "execution_count": null,
      "metadata": {
        "tags": [],
        "colab": {
          "base_uri": "https://localhost:8080/"
        },
        "id": "syTF15KRMhD8",
        "outputId": "aafc863a-be3a-4e09-fc00-35369ed23e31"
      },
      "outputs": [
        {
          "output_type": "stream",
          "name": "stdout",
          "text": [
            "Vanilla:\n",
            "Gauze used in your operation is covered as part of the surgical procedure carried out in a fully equipped operation theatre of its own, under the supervision of qualified medical practitioners. The insurance company will have access to daily records of patients, including details of procedures like the use of gauze during the operation.\n",
            "With instructions:\n",
            "Procedure Charges cover the use of gauze in your operation.\n"
          ]
        }
      ],
      "source": [
        "query_3 = \"How is gauze used in my operation covered?\"\n",
        "\n",
        "response_3 = query_engine.query(query_3)\n",
        "print(\"Vanilla:\")\n",
        "print(response_3)\n",
        "\n",
        "print(\"With instructions:\")\n",
        "response_3_i = query_engine_instruction.query(query_3)\n",
        "print(response_3_i)"
      ]
    },
    {
      "cell_type": "code",
      "execution_count": null,
      "metadata": {
        "id": "AnTk5joSMhD8"
      },
      "outputs": [],
      "source": []
    }
  ],
  "metadata": {
    "kernelspec": {
      "display_name": "llama_parse",
      "language": "python",
      "name": "llama_parse"
    },
    "language_info": {
      "codemirror_mode": {
        "name": "ipython",
        "version": 3
      },
      "file_extension": ".py",
      "mimetype": "text/x-python",
      "name": "python",
      "nbconvert_exporter": "python",
      "pygments_lexer": "ipython3",
      "version": "3.10.8"
    },
    "colab": {
      "provenance": [],
      "include_colab_link": true
    }
  },
  "nbformat": 4,
  "nbformat_minor": 0
}